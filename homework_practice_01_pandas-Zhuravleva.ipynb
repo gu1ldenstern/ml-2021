{
 "cells": [
  {
   "cell_type": "markdown",
   "metadata": {
    "id": "HcF9My_FhLuk"
   },
   "source": [
    "## Машинное обучение 1, ПМИ ФКН ВШЭ\n",
    "\n",
    "## Практическое домашнее задание 1\n",
    "\n",
    "### Общая информация\n",
    "\n",
    "Дата выдачи: 11.09.2021\n",
    "\n",
    "Мягкий дедлайн: 23:59MSK 25.09.2021\n",
    "\n",
    "Жесткий дедлайн: 23:59MSK 28.09.2021"
   ]
  },
  {
   "cell_type": "markdown",
   "metadata": {
    "id": "G64TptyJhLuo"
   },
   "source": [
    "### О задании\n",
    "\n",
    "Задание состоит из двух разделов, посвященных работе с табличными данными с помощью библиотеки pandas и визуализации с помощью matplotlib. В первом разделе вам предстоит выполнить базовые задания с помощью вышеуказанных библиотек, а во втором распределить студентов по курсам. Баллы даются за выполнение отдельных пунктов. Задачи в рамках одного раздела рекомендуется решать в том порядке, в котором они даны в задании.\n",
    "\n",
    "Задание направлено на освоение jupyter notebook (будет использоваться в дальнейших заданиях), библиотек pandas и matplotlib.\n",
    "\n",
    "### Оценивание и штрафы\n",
    "Каждая из задач имеет определенную «стоимость» (указана в скобках около задачи). Максимально допустимая оценка за работу — 10 баллов.\n",
    "\n",
    "Сдавать задание после жёсткого дедлайна нельзя. При выставлении неполного балла за задание в связи с наличием ошибок на усмотрение проверяющего предусмотрена возможность исправить работу на указанных в ответном письме условиях.\n",
    "\n",
    "Задание выполняется самостоятельно. «Похожие» решения считаются плагиатом и все задействованные студенты (в том числе те, у кого списали) не могут получить за него больше 0 баллов (подробнее о плагиате см. на странице курса). Если вы нашли решение какого-то из заданий (или его часть) в открытом источнике, необходимо указать ссылку на этот источник (скорее всего вы будете не единственным, кто это нашел, поэтому чтобы исключить подозрение в плагиате, необходима ссылка на источник).\n",
    "\n",
    "### Формат сдачи\n",
    "Задания сдаются через систему Anytask. Инвайт можно получить у семинариста или ассистента. Присылать необходимо ноутбук с выполненным заданием. Сам ноутбук называйте в формате homework-practice-01-pandas-Username.ipynb, где Username — ваша фамилия.\n",
    "\n",
    "Для удобства проверки самостоятельно посчитайте свою максимальную оценку (исходя из набора решенных задач) и укажите ниже.\n",
    "\n",
    "Оценка: xx."
   ]
  },
  {
   "cell_type": "markdown",
   "metadata": {
    "id": "BaXlfHE_hLup"
   },
   "source": [
    "## 0. Введение"
   ]
  },
  {
   "cell_type": "markdown",
   "metadata": {
    "id": "wirAvJNxhLup"
   },
   "source": [
    "Сейчас мы находимся в jupyter-ноутбуке (или ipython-ноутбуке). Это удобная среда для написания кода, проведения экспериментов, изучения данных, построения визуализаций и других нужд, не связанных с написанием production-кода. \n",
    "\n",
    "Ноутбук состоит из ячеек, каждая из которых может быть либо ячейкой с кодом, либо ячейкой с текстом размеченным и неразмеченным. Текст поддерживает markdown-разметку и формулы в Latex.\n",
    "\n",
    "Для работы с содержимым ячейки используется *режим редактирования* (*Edit mode*, включается нажатием клавиши **Enter** после выбора ячейки), а для навигации между ячейками искользуется *командный режим* (*Command mode*, включается нажатием клавиши **Esc**). Тип ячейки можно задать в командном режиме либо с помощью горячих клавиш (**y** to code, **m** to markdown, **r** to edit raw text), либо в меню *Cell -> Cell type*. \n",
    "\n",
    "После заполнения ячейки нужно нажать *Shift + Enter*, эта команда обработает содержимое ячейки: проинтерпретирует код или сверстает размеченный текст."
   ]
  },
  {
   "cell_type": "code",
   "execution_count": 2,
   "metadata": {
    "id": "aQ2_j3nkhLuq"
   },
   "outputs": [
    {
     "data": {
      "text/plain": [
       "4"
      ]
     },
     "execution_count": 2,
     "metadata": {},
     "output_type": "execute_result"
    }
   ],
   "source": [
    "# ячейка с кодом, при выполнении которой появится output\n",
    "2 + 2"
   ]
  },
  {
   "cell_type": "markdown",
   "metadata": {
    "id": "ZlulCwVKhLur"
   },
   "source": [
    "Ячейка с неразмеченыным текстом."
   ]
  },
  {
   "cell_type": "markdown",
   "metadata": {
    "id": "A4wkVlIehLur"
   },
   "source": [
    "Попробуйте создать свои ячейки, написать какой-нибудь код и текст какой-нибудь формулой."
   ]
  },
  {
   "cell_type": "markdown",
   "metadata": {
    "id": "BIuaYSvqhLus"
   },
   "source": [
    "смотрите это **курсив** а это *болд текст* !!1"
   ]
  },
  {
   "cell_type": "markdown",
   "metadata": {},
   "source": [
    "я биолог я не знаю латекс так что горжусь даже этим если честно\n",
    "\n",
    "$\n",
    "\\begin{array}{ll}\n",
    "m &=& \\frac{m_0}{\\sqrt{1-\\frac{v^2}{c^2}}}\n",
    "\\end{array}\n",
    "$"
   ]
  },
  {
   "cell_type": "markdown",
   "metadata": {},
   "source": [
    "<img src=\"https://i.gifer.com/6mG.gif\" style=\"width: 400px\">\n"
   ]
  },
  {
   "cell_type": "markdown",
   "metadata": {
    "id": "iWs6ljrIhLus"
   },
   "source": [
    "[Здесь](https://athena.brynmawr.edu/jupyter/hub/dblank/public/Jupyter%20Notebook%20Users%20Manual.ipynb) находится <s>не</s>большая заметка о используемом языке разметки Markdown. Он позволяет:\n",
    "\n",
    "0. Составлять упорядоченные списки\n",
    "1. Выделять *текст* <s>при</s> **необходимости**\n",
    "2. Добавлять [ссылки](http://imgs.xkcd.com/comics/the_universal_label.png)\n",
    "\n",
    "\n",
    "* Составлять неупорядоченные списки\n",
    "\n",
    "Делать вставки с помощью LaTex:\n",
    "    \n",
    "$\n",
    "\\left\\{\n",
    "\\begin{array}{ll}\n",
    "x = 16 \\sin^3 (t) \\\\ \n",
    "y = 13 \\cos (t) - 5 \\cos (2t) - 2 \\cos (3t) - \\cos (4t) \\\\\n",
    "t \\in [0, 2 \\pi]\n",
    "\\end{array}\n",
    "\\right.$"
   ]
  },
  {
   "cell_type": "markdown",
   "metadata": {
    "id": "6fmTGcXOhLus"
   },
   "source": [
    "А ещё можно вставлять картинки, или гифки, или что захотите:\n",
    "\n",
    "<img src=\"https://media1.tenor.com/images/9b8fbe9214504bcf6c60fe4e4f7e114e/tenor.gif?itemid=5416416\" style=\"width: 400px\">"
   ]
  },
  {
   "cell_type": "markdown",
   "metadata": {
    "id": "J_toGw7DhLut"
   },
   "source": [
    "### Google Colab"
   ]
  },
  {
   "cell_type": "markdown",
   "metadata": {
    "id": "jpkbCVjGhLut"
   },
   "source": [
    "Что за колаб? \n",
    "\n",
    "**Google Colab (Colaboratory)** это **Jupyter Notebook + Cloud + Google Drive.**\n",
    "\n",
    "Компания Google предоставляет возможность бесплатно запускать ноутбуки (предварительно загрузив их на свой гугл-диск) прямо в облаке. При этом вам не требуется установка никаких пакетов на свою машину, а работать можно прямиком из браузера. Вот ссылка:"
   ]
  },
  {
   "cell_type": "markdown",
   "metadata": {
    "id": "06MQog3yhLut"
   },
   "source": [
    "https://colab.research.google.com"
   ]
  },
  {
   "cell_type": "markdown",
   "metadata": {
    "id": "5_hfWXKPhLut"
   },
   "source": [
    "При использовании вы увидете много сходств с jupyter ноутбуком. Одним из преимуществ является доступность GPU, соответствующую опцию можно активировать в настройках сервиса. При желании вы сможете найти в интернете много туториалов по использованию или разобраться самостоятельно =)"
   ]
  },
  {
   "cell_type": "markdown",
   "metadata": {
    "id": "sUe2vnFGhLuu"
   },
   "source": [
    "## 1. Табличные данные и Pandas"
   ]
  },
  {
   "cell_type": "markdown",
   "metadata": {
    "id": "DJQzjjqJhLuu"
   },
   "source": [
    "Pandas — удобная библиотека для работы с табличными данными в Python, если данных не слишком много и они помещаются в оперативную память вашего компьютера. Несмотря на неэффективность реализации и некоторые проблемы, библиотека стала стандартом в анализе данных.\n",
    "\n",
    "Основной объект в pandas — это DataFrame, представляющий собой таблицу с именованными колонками различных типов, индексом (может быть многоуровневым). DataFrame можно создавать, считывая таблицу из файла или задавая вручную из других объектов.\n",
    "\n",
    "В этой части потребуется выполнить несколько небольших заданий. Можно пойти двумя путями: сначала изучить материалы, а потом приступить к заданиям, или же разбираться \"по ходу\". Выбирайте сами.\n",
    "\n",
    "Материалы:\n",
    "1. [Pandas за 10 минут из официального руководства](http://pandas.pydata.org/pandas-docs/stable/10min.html)\n",
    "2. [Документация](http://pandas.pydata.org/pandas-docs/stable/index.html) (стоит обращаться, если не понятно, как вызывать конкретный метод)\n",
    "3. [Примеры использования функционала](http://nbviewer.jupyter.org/github/justmarkham/pandas-videos/blob/master/pandas.ipynb)\n",
    "\n",
    "Многие из заданий можно выполнить несколькими способами. Не существуют единственно верного, но попробуйте максимально задействовать арсенал pandas и ориентируйтесь на простоту и понятность вашего кода. Мы не будем подсказывать, что нужно использовать для решения конкретной задачи, попробуйте находить необходимый функционал сами (название метода чаще всего очевидно). В помощь вам документация, поиск и stackoverflow."
   ]
  },
  {
   "cell_type": "code",
   "execution_count": 180,
   "metadata": {
    "id": "26zbFY25hLuv",
    "outputId": "404c22c6-2696-48ab-c71e-7a3ffbc36b18"
   },
   "outputs": [
    {
     "name": "stdout",
     "output_type": "stream",
     "text": [
      "Populating the interactive namespace from numpy and matplotlib\n"
     ]
    },
    {
     "name": "stderr",
     "output_type": "stream",
     "text": [
      "C:\\Users\\Masha\\anaconda3\\lib\\site-packages\\IPython\\core\\magics\\pylab.py:159: UserWarning: pylab import has clobbered these variables: ['copy']\n",
      "`%matplotlib` prevents importing * from pylab and numpy\n",
      "  warn(\"pylab import has clobbered these variables: %s\"  % clobbered +\n"
     ]
    }
   ],
   "source": [
    "%pylab inline\n",
    "import pandas as pd"
   ]
  },
  {
   "cell_type": "markdown",
   "metadata": {
    "id": "dneJl9TyhLuv"
   },
   "source": [
    "Скачаем данные:"
   ]
  },
  {
   "cell_type": "markdown",
   "metadata": {
    "id": "5hp7bn_ThLuw"
   },
   "source": [
    "Для пользователей Windows: скачайте файл самостоятельно и поместите его в папку с тетрадкой. Или попробуйте один из следующих вариантов:"
   ]
  },
  {
   "cell_type": "code",
   "execution_count": 181,
   "metadata": {
    "id": "7bHroLGChLuw"
   },
   "outputs": [
    {
     "name": "stdout",
     "output_type": "stream",
     "text": [
      "Requirement already satisfied: wget in c:\\users\\masha\\anaconda3\\lib\\site-packages (3.2)\n",
      "100% [..............................................................................] 50735 / 50735"
     ]
    },
    {
     "data": {
      "text/plain": [
       "'end_seminar (6).xlsx'"
      ]
     },
     "execution_count": 181,
     "metadata": {},
     "output_type": "execute_result"
    }
   ],
   "source": [
    "!pip install wget\n",
    "import wget \n",
    "wget.download('https://dropbox.com/s/f4rm8sjc3v99p0m/_end_seminar.xlsx?dl=1', 'end_seminar.xlsx')"
   ]
  },
  {
   "cell_type": "markdown",
   "metadata": {
    "id": "VFs_6IythLux"
   },
   "source": [
    "##### В первой части задания (до раздела \"Распределение студентов по курсам\") использование циклов запрещается и повлечет за собой снижение оценки. Использование <code>vectorize</code> и  <code>apply</code>, <code>apply_along_axis</code> крайне нежелательно."
   ]
  },
  {
   "cell_type": "markdown",
   "metadata": {
    "id": "shFkfJkohLux"
   },
   "source": [
    "Для каждой задачи из этого раздела вы должны написать код для получения ответа, а также дать текстовый ответ, если он предполагается.\n",
    "\n",
    "На некоторые вопросы вы можете получить путём пристального взгляда на таблицу, но это не будет засчитываться. Вы в любом случае должны получить ответ с помощью кода."
   ]
  },
  {
   "cell_type": "markdown",
   "metadata": {
    "id": "gDD85M7bhLux"
   },
   "source": [
    "#### 1. [0 баллов] Откройте файл с таблицей (не забудьте про её формат). Выведите последние 10 строк.\n",
    "\n",
    "Посмотрите на данные и скажите, что они из себя представляют, сколько в таблице строк, какие столбцы? (на это не надо отвечать, просто подумайте об этом)"
   ]
  },
  {
   "cell_type": "code",
   "execution_count": 182,
   "metadata": {
    "id": "PKulur3LhLuy"
   },
   "outputs": [],
   "source": [
    "data = pd.read_excel('end_seminar.xlsx')"
   ]
  },
  {
   "cell_type": "code",
   "execution_count": 183,
   "metadata": {
    "scrolled": true
   },
   "outputs": [
    {
     "data": {
      "text/html": [
       "<div>\n",
       "<style scoped>\n",
       "    .dataframe tbody tr th:only-of-type {\n",
       "        vertical-align: middle;\n",
       "    }\n",
       "\n",
       "    .dataframe tbody tr th {\n",
       "        vertical-align: top;\n",
       "    }\n",
       "\n",
       "    .dataframe thead th {\n",
       "        text-align: right;\n",
       "    }\n",
       "</style>\n",
       "<table border=\"1\" class=\"dataframe\">\n",
       "  <thead>\n",
       "    <tr style=\"text-align: right;\">\n",
       "      <th></th>\n",
       "      <th>timestamp</th>\n",
       "      <th>id</th>\n",
       "      <th>rating</th>\n",
       "      <th>18_group</th>\n",
       "      <th>is_mi</th>\n",
       "      <th>fall_1</th>\n",
       "      <th>fall_2</th>\n",
       "      <th>fall_3</th>\n",
       "      <th>spring_1</th>\n",
       "      <th>spring_2</th>\n",
       "      <th>spring_3</th>\n",
       "      <th>is_first_time</th>\n",
       "      <th>percentile</th>\n",
       "      <th>17_group</th>\n",
       "      <th>blended</th>\n",
       "      <th>is_ml_student</th>\n",
       "    </tr>\n",
       "  </thead>\n",
       "  <tbody>\n",
       "    <tr>\n",
       "      <th>351</th>\n",
       "      <td>2020-05-18 23:58:33.903</td>\n",
       "      <td>8fe79f84f36e3a5d2d6745621321302c</td>\n",
       "      <td>1016</td>\n",
       "      <td>NaN</td>\n",
       "      <td>NaN</td>\n",
       "      <td>Безопасность компьютерных систем</td>\n",
       "      <td>Высокопроизводительные вычисления</td>\n",
       "      <td>Сбор и обработка данных с помощью краудсорсинга</td>\n",
       "      <td>Конфликты и кооперация</td>\n",
       "      <td>Проектирование и разработка высоконагруженных ...</td>\n",
       "      <td>Символьные вычисления</td>\n",
       "      <td>Да</td>\n",
       "      <td>0.942029</td>\n",
       "      <td>174.0</td>\n",
       "      <td>DevOps</td>\n",
       "      <td>NaN</td>\n",
       "    </tr>\n",
       "    <tr>\n",
       "      <th>352</th>\n",
       "      <td>2020-05-18 23:59:20.831</td>\n",
       "      <td>f93afd8e92c336b471aa3bbbc579aefe</td>\n",
       "      <td>1298</td>\n",
       "      <td>NaN</td>\n",
       "      <td>NaN</td>\n",
       "      <td>Высокопроизводительные вычисления</td>\n",
       "      <td>Сбор и обработка данных с помощью краудсорсинга</td>\n",
       "      <td>Statistical Learning Theory</td>\n",
       "      <td>Методы сжатия и передачи медиаданных</td>\n",
       "      <td>Проектирование и разработка высоконагруженных ...</td>\n",
       "      <td>Конфликты и кооперация</td>\n",
       "      <td>Да</td>\n",
       "      <td>0.057971</td>\n",
       "      <td>175.0</td>\n",
       "      <td>DevOps</td>\n",
       "      <td>NaN</td>\n",
       "    </tr>\n",
       "    <tr>\n",
       "      <th>353</th>\n",
       "      <td>2020-05-18 23:59:28.998</td>\n",
       "      <td>9963fc00d9405a35b894cc04a7e19855</td>\n",
       "      <td>1135</td>\n",
       "      <td>NaN</td>\n",
       "      <td>NaN</td>\n",
       "      <td>Безопасность компьютерных систем</td>\n",
       "      <td>Высокопроизводительные вычисления</td>\n",
       "      <td>Безопасность компьютерных систем</td>\n",
       "      <td>Проектирование и разработка высоконагруженных ...</td>\n",
       "      <td>Методы сжатия и передачи медиаданных</td>\n",
       "      <td>Символьные вычисления</td>\n",
       "      <td>Да</td>\n",
       "      <td>0.572464</td>\n",
       "      <td>175.0</td>\n",
       "      <td>DevOps</td>\n",
       "      <td>NaN</td>\n",
       "    </tr>\n",
       "    <tr>\n",
       "      <th>354</th>\n",
       "      <td>2020-05-19 08:55:39.509</td>\n",
       "      <td>98c5a2548d93f26bd4195466e93178b3</td>\n",
       "      <td>1035</td>\n",
       "      <td>NaN</td>\n",
       "      <td>NaN</td>\n",
       "      <td>Байесовские методы машинного обучения</td>\n",
       "      <td>Глубинное обучение в обработке звука</td>\n",
       "      <td>Statistical Learning Theory</td>\n",
       "      <td>Обучение с подкреплением</td>\n",
       "      <td>Генеративные модели в машинном обучении</td>\n",
       "      <td>Методы сжатия и передачи медиаданных</td>\n",
       "      <td>Нет</td>\n",
       "      <td>0.905797</td>\n",
       "      <td>171.0</td>\n",
       "      <td>DevOps</td>\n",
       "      <td>NaN</td>\n",
       "    </tr>\n",
       "    <tr>\n",
       "      <th>355</th>\n",
       "      <td>2020-05-19 18:58:06.283</td>\n",
       "      <td>ba298cbd9be59b84bab33325e956f27e</td>\n",
       "      <td>1155</td>\n",
       "      <td>NaN</td>\n",
       "      <td>NaN</td>\n",
       "      <td>Сбор и обработка данных с помощью краудсорсинга</td>\n",
       "      <td>Байесовские методы машинного обучения</td>\n",
       "      <td>Анализ неструктурированных данных</td>\n",
       "      <td>Конфликты и кооперация</td>\n",
       "      <td>Обучение с подкреплением</td>\n",
       "      <td>Компьютерное зрение</td>\n",
       "      <td>Да</td>\n",
       "      <td>0.507246</td>\n",
       "      <td>171.0</td>\n",
       "      <td>Соревновательный анализ данных</td>\n",
       "      <td>NaN</td>\n",
       "    </tr>\n",
       "    <tr>\n",
       "      <th>356</th>\n",
       "      <td>2020-05-19 19:04:17.873</td>\n",
       "      <td>c5870b37ee3f672e4259dfb2fc02ed8f</td>\n",
       "      <td>1029</td>\n",
       "      <td>NaN</td>\n",
       "      <td>NaN</td>\n",
       "      <td>Statistical Learning Theory</td>\n",
       "      <td>Анализ неструктурированных данных</td>\n",
       "      <td>Сбор и обработка данных с помощью краудсорсинга</td>\n",
       "      <td>Обучение с подкреплением</td>\n",
       "      <td>Конфликты и кооперация</td>\n",
       "      <td>Компьютерное зрение</td>\n",
       "      <td>Да</td>\n",
       "      <td>0.920290</td>\n",
       "      <td>174.0</td>\n",
       "      <td>DevOps</td>\n",
       "      <td>NaN</td>\n",
       "    </tr>\n",
       "    <tr>\n",
       "      <th>357</th>\n",
       "      <td>2020-05-19 20:19:25.815</td>\n",
       "      <td>f44aea1095f9f5b8e2f5f0ed2b17891b</td>\n",
       "      <td>1060</td>\n",
       "      <td>NaN</td>\n",
       "      <td>NaN</td>\n",
       "      <td>Анализ неструктурированных данных</td>\n",
       "      <td>Высокопроизводительные вычисления</td>\n",
       "      <td>Моделирование временных рядов</td>\n",
       "      <td>Конфликты и кооперация</td>\n",
       "      <td>Обучение с подкреплением</td>\n",
       "      <td>Численные методы</td>\n",
       "      <td>Да</td>\n",
       "      <td>0.840580</td>\n",
       "      <td>174.0</td>\n",
       "      <td>DevOps</td>\n",
       "      <td>NaN</td>\n",
       "    </tr>\n",
       "    <tr>\n",
       "      <th>358</th>\n",
       "      <td>2020-05-20 11:54:38.318</td>\n",
       "      <td>d7118b44c7e8fdbbaaca226d2da6fef1</td>\n",
       "      <td>1111</td>\n",
       "      <td>NaN</td>\n",
       "      <td>NaN</td>\n",
       "      <td>Сбор и обработка данных с помощью краудсорсинга</td>\n",
       "      <td>Statistical Learning Theory</td>\n",
       "      <td>Анализ неструктурированных данных</td>\n",
       "      <td>Проектирование и разработка высоконагруженных ...</td>\n",
       "      <td>Методы сжатия и передачи медиаданных</td>\n",
       "      <td>Численные методы</td>\n",
       "      <td>Да</td>\n",
       "      <td>0.652174</td>\n",
       "      <td>173.0</td>\n",
       "      <td>Соревновательный анализ данных</td>\n",
       "      <td>NaN</td>\n",
       "    </tr>\n",
       "    <tr>\n",
       "      <th>359</th>\n",
       "      <td>2020-05-23 21:16:40.916</td>\n",
       "      <td>79d14db48e4737af731960ae212d5134</td>\n",
       "      <td>966</td>\n",
       "      <td>NaN</td>\n",
       "      <td>NaN</td>\n",
       "      <td>Безопасность компьютерных систем</td>\n",
       "      <td>Принятие решений в условиях риска и неопределё...</td>\n",
       "      <td>Анализ неструктурированных данных</td>\n",
       "      <td>Проектирование и разработка высоконагруженных ...</td>\n",
       "      <td>Методы сжатия и передачи медиаданных</td>\n",
       "      <td>Компьютерное зрение</td>\n",
       "      <td>Да</td>\n",
       "      <td>0.985507</td>\n",
       "      <td>172.0</td>\n",
       "      <td>DevOps</td>\n",
       "      <td>NaN</td>\n",
       "    </tr>\n",
       "    <tr>\n",
       "      <th>360</th>\n",
       "      <td>2020-05-23 21:16:40.916</td>\n",
       "      <td>f2d210ace25a841e1e58036b257d5d47</td>\n",
       "      <td>1195</td>\n",
       "      <td>NaN</td>\n",
       "      <td>NaN</td>\n",
       "      <td>Анализ неструктурированных данных</td>\n",
       "      <td>Моделирование временных рядов</td>\n",
       "      <td>Высокопроизводительные вычисления</td>\n",
       "      <td>Обучение с подкреплением</td>\n",
       "      <td>Компьютерное зрение</td>\n",
       "      <td>Методы сжатия и передачи медиаданных</td>\n",
       "      <td>NaN</td>\n",
       "      <td>0.369565</td>\n",
       "      <td>176.0</td>\n",
       "      <td>Соревновательный анализ данных</td>\n",
       "      <td>NaN</td>\n",
       "    </tr>\n",
       "  </tbody>\n",
       "</table>\n",
       "</div>"
      ],
      "text/plain": [
       "                  timestamp                                id  rating  \\\n",
       "351 2020-05-18 23:58:33.903  8fe79f84f36e3a5d2d6745621321302c    1016   \n",
       "352 2020-05-18 23:59:20.831  f93afd8e92c336b471aa3bbbc579aefe    1298   \n",
       "353 2020-05-18 23:59:28.998  9963fc00d9405a35b894cc04a7e19855    1135   \n",
       "354 2020-05-19 08:55:39.509  98c5a2548d93f26bd4195466e93178b3    1035   \n",
       "355 2020-05-19 18:58:06.283  ba298cbd9be59b84bab33325e956f27e    1155   \n",
       "356 2020-05-19 19:04:17.873  c5870b37ee3f672e4259dfb2fc02ed8f    1029   \n",
       "357 2020-05-19 20:19:25.815  f44aea1095f9f5b8e2f5f0ed2b17891b    1060   \n",
       "358 2020-05-20 11:54:38.318  d7118b44c7e8fdbbaaca226d2da6fef1    1111   \n",
       "359 2020-05-23 21:16:40.916  79d14db48e4737af731960ae212d5134     966   \n",
       "360 2020-05-23 21:16:40.916  f2d210ace25a841e1e58036b257d5d47    1195   \n",
       "\n",
       "     18_group  is_mi                                           fall_1  \\\n",
       "351       NaN    NaN                 Безопасность компьютерных систем   \n",
       "352       NaN    NaN                Высокопроизводительные вычисления   \n",
       "353       NaN    NaN                 Безопасность компьютерных систем   \n",
       "354       NaN    NaN            Байесовские методы машинного обучения   \n",
       "355       NaN    NaN  Сбор и обработка данных с помощью краудсорсинга   \n",
       "356       NaN    NaN                      Statistical Learning Theory   \n",
       "357       NaN    NaN                Анализ неструктурированных данных   \n",
       "358       NaN    NaN  Сбор и обработка данных с помощью краудсорсинга   \n",
       "359       NaN    NaN                 Безопасность компьютерных систем   \n",
       "360       NaN    NaN                Анализ неструктурированных данных   \n",
       "\n",
       "                                                fall_2  \\\n",
       "351                  Высокопроизводительные вычисления   \n",
       "352    Сбор и обработка данных с помощью краудсорсинга   \n",
       "353                  Высокопроизводительные вычисления   \n",
       "354               Глубинное обучение в обработке звука   \n",
       "355              Байесовские методы машинного обучения   \n",
       "356                  Анализ неструктурированных данных   \n",
       "357                  Высокопроизводительные вычисления   \n",
       "358                        Statistical Learning Theory   \n",
       "359  Принятие решений в условиях риска и неопределё...   \n",
       "360                      Моделирование временных рядов   \n",
       "\n",
       "                                              fall_3  \\\n",
       "351  Сбор и обработка данных с помощью краудсорсинга   \n",
       "352                      Statistical Learning Theory   \n",
       "353                 Безопасность компьютерных систем   \n",
       "354                      Statistical Learning Theory   \n",
       "355                Анализ неструктурированных данных   \n",
       "356  Сбор и обработка данных с помощью краудсорсинга   \n",
       "357                    Моделирование временных рядов   \n",
       "358                Анализ неструктурированных данных   \n",
       "359                Анализ неструктурированных данных   \n",
       "360                Высокопроизводительные вычисления   \n",
       "\n",
       "                                              spring_1  \\\n",
       "351                             Конфликты и кооперация   \n",
       "352               Методы сжатия и передачи медиаданных   \n",
       "353  Проектирование и разработка высоконагруженных ...   \n",
       "354                           Обучение с подкреплением   \n",
       "355                             Конфликты и кооперация   \n",
       "356                           Обучение с подкреплением   \n",
       "357                             Конфликты и кооперация   \n",
       "358  Проектирование и разработка высоконагруженных ...   \n",
       "359  Проектирование и разработка высоконагруженных ...   \n",
       "360                           Обучение с подкреплением   \n",
       "\n",
       "                                              spring_2  \\\n",
       "351  Проектирование и разработка высоконагруженных ...   \n",
       "352  Проектирование и разработка высоконагруженных ...   \n",
       "353               Методы сжатия и передачи медиаданных   \n",
       "354            Генеративные модели в машинном обучении   \n",
       "355                           Обучение с подкреплением   \n",
       "356                             Конфликты и кооперация   \n",
       "357                           Обучение с подкреплением   \n",
       "358               Методы сжатия и передачи медиаданных   \n",
       "359               Методы сжатия и передачи медиаданных   \n",
       "360                                Компьютерное зрение   \n",
       "\n",
       "                                 spring_3 is_first_time  percentile  17_group  \\\n",
       "351                 Символьные вычисления            Да    0.942029     174.0   \n",
       "352                Конфликты и кооперация            Да    0.057971     175.0   \n",
       "353                 Символьные вычисления            Да    0.572464     175.0   \n",
       "354  Методы сжатия и передачи медиаданных           Нет    0.905797     171.0   \n",
       "355                   Компьютерное зрение            Да    0.507246     171.0   \n",
       "356                   Компьютерное зрение            Да    0.920290     174.0   \n",
       "357                      Численные методы            Да    0.840580     174.0   \n",
       "358                      Численные методы            Да    0.652174     173.0   \n",
       "359                   Компьютерное зрение            Да    0.985507     172.0   \n",
       "360  Методы сжатия и передачи медиаданных           NaN    0.369565     176.0   \n",
       "\n",
       "                            blended  is_ml_student  \n",
       "351                          DevOps            NaN  \n",
       "352                          DevOps            NaN  \n",
       "353                          DevOps            NaN  \n",
       "354                          DevOps            NaN  \n",
       "355  Соревновательный анализ данных            NaN  \n",
       "356                          DevOps            NaN  \n",
       "357                          DevOps            NaN  \n",
       "358  Соревновательный анализ данных            NaN  \n",
       "359                          DevOps            NaN  \n",
       "360  Соревновательный анализ данных            NaN  "
      ]
     },
     "execution_count": 183,
     "metadata": {},
     "output_type": "execute_result"
    }
   ],
   "source": [
    "data.tail(10)"
   ]
  },
  {
   "cell_type": "markdown",
   "metadata": {
    "id": "Jhk3tVpVhLuy"
   },
   "source": [
    "#### 2. [0.5 балла] Ответьте на вопросы:\n",
    "1. Сколько было заявок из групп 18-го года набора, а сколько из групп 17-го года?\n",
    "2. Есть ли студенты с равными перцентилями?"
   ]
  },
  {
   "cell_type": "code",
   "execution_count": 184,
   "metadata": {},
   "outputs": [
    {
     "name": "stdout",
     "output_type": "stream",
     "text": [
      "из групп 18-го года набора 223 заявки\n"
     ]
    }
   ],
   "source": [
    "print('из групп 18-го года набора %d заявки' % len(data['18_group'].dropna()))"
   ]
  },
  {
   "cell_type": "code",
   "execution_count": 185,
   "metadata": {},
   "outputs": [
    {
     "name": "stdout",
     "output_type": "stream",
     "text": [
      "из групп 17-го года набора 138 заявок\n"
     ]
    }
   ],
   "source": [
    "print('из групп 17-го года набора %d заявок' % len(data['17_group'].dropna()))"
   ]
  },
  {
   "cell_type": "code",
   "execution_count": 186,
   "metadata": {},
   "outputs": [
    {
     "name": "stdout",
     "output_type": "stream",
     "text": [
      "есть студенты с равными перцентилями\n"
     ]
    }
   ],
   "source": [
    "print('есть студенты с равными перцентилями') if not data['percentile'].is_unique else print('таких студентов нет')"
   ]
  },
  {
   "cell_type": "markdown",
   "metadata": {
    "id": "jPiMwyqHhLuy"
   },
   "source": [
    "#### 3. [0.5 балла] Есть ли в данных пропуски? В каких колонках? Сколько их в каждой из этих колонок?"
   ]
  },
  {
   "cell_type": "code",
   "execution_count": 187,
   "metadata": {
    "id": "edY1RrSOhLuy"
   },
   "outputs": [
    {
     "data": {
      "text/html": [
       "<div>\n",
       "<style scoped>\n",
       "    .dataframe tbody tr th:only-of-type {\n",
       "        vertical-align: middle;\n",
       "    }\n",
       "\n",
       "    .dataframe tbody tr th {\n",
       "        vertical-align: top;\n",
       "    }\n",
       "\n",
       "    .dataframe thead th {\n",
       "        text-align: right;\n",
       "    }\n",
       "</style>\n",
       "<table border=\"1\" class=\"dataframe\">\n",
       "  <thead>\n",
       "    <tr style=\"text-align: right;\">\n",
       "      <th></th>\n",
       "      <th>nulls</th>\n",
       "      <th>dtype</th>\n",
       "    </tr>\n",
       "  </thead>\n",
       "  <tbody>\n",
       "    <tr>\n",
       "      <th>18_group</th>\n",
       "      <td>138</td>\n",
       "      <td>float64</td>\n",
       "    </tr>\n",
       "    <tr>\n",
       "      <th>is_mi</th>\n",
       "      <td>343</td>\n",
       "      <td>float64</td>\n",
       "    </tr>\n",
       "    <tr>\n",
       "      <th>17_group</th>\n",
       "      <td>223</td>\n",
       "      <td>float64</td>\n",
       "    </tr>\n",
       "    <tr>\n",
       "      <th>is_ml_student</th>\n",
       "      <td>304</td>\n",
       "      <td>float64</td>\n",
       "    </tr>\n",
       "    <tr>\n",
       "      <th>is_first_time</th>\n",
       "      <td>2</td>\n",
       "      <td>object</td>\n",
       "    </tr>\n",
       "    <tr>\n",
       "      <th>blended</th>\n",
       "      <td>223</td>\n",
       "      <td>object</td>\n",
       "    </tr>\n",
       "  </tbody>\n",
       "</table>\n",
       "</div>"
      ],
      "text/plain": [
       "               nulls    dtype\n",
       "18_group         138  float64\n",
       "is_mi            343  float64\n",
       "17_group         223  float64\n",
       "is_ml_student    304  float64\n",
       "is_first_time      2   object\n",
       "blended          223   object"
      ]
     },
     "execution_count": 187,
     "metadata": {},
     "output_type": "execute_result"
    }
   ],
   "source": [
    "gaps = pd.DataFrame({'nulls': sum(data.isnull()), 'dtype': data.dtypes})\n",
    "gaps = gaps[gaps['nulls']!=0].sort_values('dtype')\n",
    "gaps"
   ]
  },
  {
   "cell_type": "markdown",
   "metadata": {
    "id": "B5ORhP2uhLuz"
   },
   "source": [
    "Заполните пропуски пустой строкой для строковых колонок и нулём для числовых."
   ]
  },
  {
   "cell_type": "code",
   "execution_count": 188,
   "metadata": {
    "id": "TlF_JJ2ghLuz"
   },
   "outputs": [],
   "source": [
    "categ = gaps[gaps['dtype'] == 'object'].index.tolist()\n",
    "numer = gaps[gaps['dtype'] != 'object'].index.tolist()"
   ]
  },
  {
   "cell_type": "code",
   "execution_count": 189,
   "metadata": {},
   "outputs": [],
   "source": [
    "data.loc[:,numer] = data.loc[:,numer].fillna(value=0)\n",
    "data.loc[:,categ] = data.loc[:,categ].fillna(value='')"
   ]
  },
  {
   "cell_type": "code",
   "execution_count": 190,
   "metadata": {},
   "outputs": [
    {
     "name": "stdout",
     "output_type": "stream",
     "text": [
      "всего NaNов осталось 0\n"
     ]
    }
   ],
   "source": [
    "print('всего NaNов осталось %d'% sum(sum(data.isnull())))"
   ]
  },
  {
   "cell_type": "markdown",
   "metadata": {
    "id": "w5ELhkT1hLuz"
   },
   "source": [
    "#### 4. [0.5 балла] Посмотрите повнимательнее на колонку 'is_first_time'. \n",
    "\n",
    "Есть ли в ней ответы \"Нет\"? Сколько их?\n",
    "\n",
    "Если вы найдете повторные обращения студентов, оставьте только самую позднюю версию. <i>Обращения со значением \"Нет\" в <code>is_first_time</code> могут быть как повторными, так и первичными, поскольку поле заполняли сами студенты.</i>"
   ]
  },
  {
   "cell_type": "code",
   "execution_count": 191,
   "metadata": {
    "id": "VEfiNsyQhLuz"
   },
   "outputs": [
    {
     "data": {
      "text/plain": [
       "51"
      ]
     },
     "execution_count": 191,
     "metadata": {},
     "output_type": "execute_result"
    }
   ],
   "source": [
    "len(data[data['is_first_time'] == 'Нет'])"
   ]
  },
  {
   "cell_type": "code",
   "execution_count": 192,
   "metadata": {},
   "outputs": [],
   "source": [
    "data.sort_values(by = 'timestamp', inplace = True)\n",
    "data.drop_duplicates(subset = 'id', keep = 'last', inplace = True)\n",
    "pass"
   ]
  },
  {
   "cell_type": "code",
   "execution_count": 193,
   "metadata": {},
   "outputs": [
    {
     "data": {
      "text/plain": [
       "True"
      ]
     },
     "execution_count": 193,
     "metadata": {},
     "output_type": "execute_result"
    }
   ],
   "source": [
    "data['id'].is_unique"
   ]
  },
  {
   "cell_type": "markdown",
   "metadata": {
    "id": "IlzHp3HVhLuz"
   },
   "source": [
    "#### 5. [0.5 балла] Какие  blended-курсы для четверокурсников существуют? На какой blended-курс записалось наибольшее количество студентов? На каком из курсов собрались студенты с самым высоким средним рейтингом? "
   ]
  },
  {
   "cell_type": "code",
   "execution_count": 194,
   "metadata": {
    "id": "j_BRWerHhLu0"
   },
   "outputs": [
    {
     "name": "stdout",
     "output_type": "stream",
     "text": [
      "DevOps, Введение в дифференциальную геометрию, , Соревновательный анализ данных\n"
     ]
    }
   ],
   "source": [
    "print(*data['blended'].unique(), sep = ', ')"
   ]
  },
  {
   "cell_type": "markdown",
   "metadata": {},
   "source": [
    "курсы: DevOps, Введение в дифференциальную геометрию, Соревновательный анализ данных"
   ]
  },
  {
   "cell_type": "code",
   "execution_count": 195,
   "metadata": {},
   "outputs": [
    {
     "data": {
      "text/plain": [
       "blended\n",
       "                                         213\n",
       "DevOps                                    87\n",
       "Введение в дифференциальную геометрию     15\n",
       "Соревновательный анализ данных            32\n",
       "Name: id, dtype: int64"
      ]
     },
     "execution_count": 195,
     "metadata": {},
     "output_type": "execute_result"
    }
   ],
   "source": [
    "data.groupby(by=['blended'])['id'].count()"
   ]
  },
  {
   "cell_type": "markdown",
   "metadata": {},
   "source": [
    "наибольшее число студентов на DevOps"
   ]
  },
  {
   "cell_type": "code",
   "execution_count": 196,
   "metadata": {},
   "outputs": [
    {
     "data": {
      "text/plain": [
       "blended\n",
       "                                          633.901408\n",
       "DevOps                                   1154.172414\n",
       "Введение в дифференциальную геометрию    1210.733333\n",
       "Соревновательный анализ данных           1144.218750\n",
       "Name: rating, dtype: float64"
      ]
     },
     "execution_count": 196,
     "metadata": {},
     "output_type": "execute_result"
    }
   ],
   "source": [
    "data.groupby(by=['blended'])['rating'].mean()"
   ]
  },
  {
   "cell_type": "markdown",
   "metadata": {},
   "source": [
    "самый высокий средний рейтинг на курсе Введение в дифференциальную геометрию"
   ]
  },
  {
   "cell_type": "markdown",
   "metadata": {
    "id": "IU_FLt8HhLu0"
   },
   "source": [
    "#### 6. [1 балл] Выясните, есть ли в данных студенты с абсолютно одинаковыми предпочтениями по всем курсам (не забудьте учесть blended-курсы для четверокурсников). Сколько таких наборов, которые взяли несколько студентов? Выведите их все вместе с количеством выбравших их студентов.\n",
    "\n",
    "<i>Предпочтения двух студентов считаются абсолютно одинаковыми, если выбранные ими дисциплины имеют одинаковый приоритет.</i>"
   ]
  },
  {
   "cell_type": "code",
   "execution_count": 197,
   "metadata": {
    "id": "BBDlR1mFhLu0"
   },
   "outputs": [],
   "source": [
    "courses = ['fall_1', 'fall_2', 'fall_3', 'spring_1', 'spring_2', 'spring_3', 'blended']"
   ]
  },
  {
   "cell_type": "code",
   "execution_count": 198,
   "metadata": {},
   "outputs": [
    {
     "name": "stdout",
     "output_type": "stream",
     "text": [
      "15\n"
     ]
    },
    {
     "data": {
      "text/html": [
       "<div>\n",
       "<style scoped>\n",
       "    .dataframe tbody tr th:only-of-type {\n",
       "        vertical-align: middle;\n",
       "    }\n",
       "\n",
       "    .dataframe tbody tr th {\n",
       "        vertical-align: top;\n",
       "    }\n",
       "\n",
       "    .dataframe thead th {\n",
       "        text-align: right;\n",
       "    }\n",
       "</style>\n",
       "<table border=\"1\" class=\"dataframe\">\n",
       "  <thead>\n",
       "    <tr style=\"text-align: right;\">\n",
       "      <th></th>\n",
       "      <th>fall_1</th>\n",
       "      <th>fall_2</th>\n",
       "      <th>fall_3</th>\n",
       "      <th>spring_1</th>\n",
       "      <th>spring_2</th>\n",
       "      <th>spring_3</th>\n",
       "      <th>blended</th>\n",
       "      <th>amount of students</th>\n",
       "    </tr>\n",
       "  </thead>\n",
       "  <tbody>\n",
       "    <tr>\n",
       "      <th>0</th>\n",
       "      <td>Statistical Learning Theory</td>\n",
       "      <td>Анализ неструктурированных данных</td>\n",
       "      <td>Сбор и обработка данных с помощью краудсорсинга</td>\n",
       "      <td>Обучение с подкреплением</td>\n",
       "      <td>Конфликты и кооперация</td>\n",
       "      <td>Компьютерное зрение</td>\n",
       "      <td>DevOps</td>\n",
       "      <td>2</td>\n",
       "    </tr>\n",
       "    <tr>\n",
       "      <th>1</th>\n",
       "      <td>Байесовские методы машинного обучения</td>\n",
       "      <td>Анализ неструктурированных данных</td>\n",
       "      <td>Глубинное обучение в обработке звука</td>\n",
       "      <td>Обучение с подкреплением</td>\n",
       "      <td>Генеративные модели в машинном обучении</td>\n",
       "      <td>Компьютерное зрение</td>\n",
       "      <td>DevOps</td>\n",
       "      <td>2</td>\n",
       "    </tr>\n",
       "    <tr>\n",
       "      <th>2</th>\n",
       "      <td>Байесовские методы машинного обучения</td>\n",
       "      <td>Анализ неструктурированных данных</td>\n",
       "      <td>Сбор и обработка данных с помощью краудсорсинга</td>\n",
       "      <td>Обучение с подкреплением</td>\n",
       "      <td>Компьютерное зрение</td>\n",
       "      <td>Генеративные модели в машинном обучении</td>\n",
       "      <td>DevOps</td>\n",
       "      <td>2</td>\n",
       "    </tr>\n",
       "    <tr>\n",
       "      <th>3</th>\n",
       "      <td>Безопасность компьютерных систем</td>\n",
       "      <td>Statistical Learning Theory</td>\n",
       "      <td>Матричные вычисления</td>\n",
       "      <td>Дискретная оптимизация</td>\n",
       "      <td>Промышленное программирование на языке Java</td>\n",
       "      <td>Дополнительные главы прикладной статистики</td>\n",
       "      <td></td>\n",
       "      <td>3</td>\n",
       "    </tr>\n",
       "    <tr>\n",
       "      <th>4</th>\n",
       "      <td>Безопасность компьютерных систем</td>\n",
       "      <td>Высокопроизводительные вычисления</td>\n",
       "      <td>Анализ неструктурированных данных</td>\n",
       "      <td>Проектирование и разработка высоконагруженных ...</td>\n",
       "      <td>Методы сжатия и передачи медиаданных</td>\n",
       "      <td>Конфликты и кооперация</td>\n",
       "      <td>DevOps</td>\n",
       "      <td>2</td>\n",
       "    </tr>\n",
       "    <tr>\n",
       "      <th>5</th>\n",
       "      <td>Безопасность компьютерных систем</td>\n",
       "      <td>Высокопроизводительные вычисления</td>\n",
       "      <td>Язык SQL</td>\n",
       "      <td>Компьютерные сети</td>\n",
       "      <td>Промышленное программирование на языке Java</td>\n",
       "      <td>Дискретная оптимизация</td>\n",
       "      <td></td>\n",
       "      <td>3</td>\n",
       "    </tr>\n",
       "    <tr>\n",
       "      <th>6</th>\n",
       "      <td>Безопасность компьютерных систем</td>\n",
       "      <td>Высокопроизводительные вычисления</td>\n",
       "      <td>Язык SQL</td>\n",
       "      <td>Промышленное программирование на языке Java</td>\n",
       "      <td>Компьютерные сети</td>\n",
       "      <td>Системы баз данных</td>\n",
       "      <td></td>\n",
       "      <td>2</td>\n",
       "    </tr>\n",
       "    <tr>\n",
       "      <th>7</th>\n",
       "      <td>Безопасность компьютерных систем</td>\n",
       "      <td>Матричные вычисления</td>\n",
       "      <td>Моделирование временных рядов</td>\n",
       "      <td>Промышленное программирование на языке Java</td>\n",
       "      <td>Компьютерные сети</td>\n",
       "      <td>Дискретная оптимизация</td>\n",
       "      <td></td>\n",
       "      <td>2</td>\n",
       "    </tr>\n",
       "    <tr>\n",
       "      <th>8</th>\n",
       "      <td>Безопасность компьютерных систем</td>\n",
       "      <td>Сбор и обработка данных с помощью краудсорсинга</td>\n",
       "      <td>Матричные вычисления</td>\n",
       "      <td>Компьютерные сети</td>\n",
       "      <td>Промышленное программирование на языке Java</td>\n",
       "      <td>Анализ данных в бизнесе</td>\n",
       "      <td></td>\n",
       "      <td>2</td>\n",
       "    </tr>\n",
       "    <tr>\n",
       "      <th>9</th>\n",
       "      <td>Безопасность компьютерных систем</td>\n",
       "      <td>Теория баз данных</td>\n",
       "      <td>Язык SQL</td>\n",
       "      <td>Машинное обучение 2</td>\n",
       "      <td>Компьютерные сети</td>\n",
       "      <td>Промышленное программирование на языке Java</td>\n",
       "      <td></td>\n",
       "      <td>2</td>\n",
       "    </tr>\n",
       "    <tr>\n",
       "      <th>10</th>\n",
       "      <td>Высокопроизводительные вычисления</td>\n",
       "      <td>Безопасность компьютерных систем</td>\n",
       "      <td>Сбор и обработка данных с помощью краудсорсинга</td>\n",
       "      <td>Проектирование и разработка высоконагруженных ...</td>\n",
       "      <td>Методы сжатия и передачи медиаданных</td>\n",
       "      <td>Компьютерное зрение</td>\n",
       "      <td>DevOps</td>\n",
       "      <td>2</td>\n",
       "    </tr>\n",
       "    <tr>\n",
       "      <th>11</th>\n",
       "      <td>Высокопроизводительные вычисления</td>\n",
       "      <td>Сбор и обработка данных с помощью краудсорсинга</td>\n",
       "      <td>Моделирование временных рядов</td>\n",
       "      <td>Проектирование и разработка высоконагруженных ...</td>\n",
       "      <td>Методы сжатия и передачи медиаданных</td>\n",
       "      <td>Методы сжатия и передачи медиаданных</td>\n",
       "      <td>DevOps</td>\n",
       "      <td>2</td>\n",
       "    </tr>\n",
       "    <tr>\n",
       "      <th>12</th>\n",
       "      <td>Моделирование временных рядов</td>\n",
       "      <td>Сбор и обработка данных с помощью краудсорсинга</td>\n",
       "      <td>Безопасность компьютерных систем</td>\n",
       "      <td>Компьютерные сети</td>\n",
       "      <td>Дополнительные главы прикладной статистики</td>\n",
       "      <td>Системы баз данных</td>\n",
       "      <td></td>\n",
       "      <td>2</td>\n",
       "    </tr>\n",
       "    <tr>\n",
       "      <th>13</th>\n",
       "      <td>Сбор и обработка данных с помощью краудсорсинга</td>\n",
       "      <td>Язык SQL</td>\n",
       "      <td>Теория баз данных</td>\n",
       "      <td>Промышленное программирование на языке Java</td>\n",
       "      <td>Машинное обучение 2</td>\n",
       "      <td>Компьютерные сети</td>\n",
       "      <td></td>\n",
       "      <td>2</td>\n",
       "    </tr>\n",
       "    <tr>\n",
       "      <th>14</th>\n",
       "      <td>Язык SQL</td>\n",
       "      <td>Высокопроизводительные вычисления</td>\n",
       "      <td>Теория баз данных</td>\n",
       "      <td>Компьютерные сети</td>\n",
       "      <td>Промышленное программирование на языке Java</td>\n",
       "      <td>Дискретная оптимизация</td>\n",
       "      <td></td>\n",
       "      <td>2</td>\n",
       "    </tr>\n",
       "  </tbody>\n",
       "</table>\n",
       "</div>"
      ],
      "text/plain": [
       "                                             fall_1  \\\n",
       "0                       Statistical Learning Theory   \n",
       "1             Байесовские методы машинного обучения   \n",
       "2             Байесовские методы машинного обучения   \n",
       "3                  Безопасность компьютерных систем   \n",
       "4                  Безопасность компьютерных систем   \n",
       "5                  Безопасность компьютерных систем   \n",
       "6                  Безопасность компьютерных систем   \n",
       "7                  Безопасность компьютерных систем   \n",
       "8                  Безопасность компьютерных систем   \n",
       "9                  Безопасность компьютерных систем   \n",
       "10                Высокопроизводительные вычисления   \n",
       "11                Высокопроизводительные вычисления   \n",
       "12                    Моделирование временных рядов   \n",
       "13  Сбор и обработка данных с помощью краудсорсинга   \n",
       "14                                         Язык SQL   \n",
       "\n",
       "                                             fall_2  \\\n",
       "0                 Анализ неструктурированных данных   \n",
       "1                 Анализ неструктурированных данных   \n",
       "2                 Анализ неструктурированных данных   \n",
       "3                       Statistical Learning Theory   \n",
       "4                 Высокопроизводительные вычисления   \n",
       "5                 Высокопроизводительные вычисления   \n",
       "6                 Высокопроизводительные вычисления   \n",
       "7                              Матричные вычисления   \n",
       "8   Сбор и обработка данных с помощью краудсорсинга   \n",
       "9                                 Теория баз данных   \n",
       "10                 Безопасность компьютерных систем   \n",
       "11  Сбор и обработка данных с помощью краудсорсинга   \n",
       "12  Сбор и обработка данных с помощью краудсорсинга   \n",
       "13                                         Язык SQL   \n",
       "14                Высокопроизводительные вычисления   \n",
       "\n",
       "                                             fall_3  \\\n",
       "0   Сбор и обработка данных с помощью краудсорсинга   \n",
       "1              Глубинное обучение в обработке звука   \n",
       "2   Сбор и обработка данных с помощью краудсорсинга   \n",
       "3                              Матричные вычисления   \n",
       "4                 Анализ неструктурированных данных   \n",
       "5                                          Язык SQL   \n",
       "6                                          Язык SQL   \n",
       "7                     Моделирование временных рядов   \n",
       "8                              Матричные вычисления   \n",
       "9                                          Язык SQL   \n",
       "10  Сбор и обработка данных с помощью краудсорсинга   \n",
       "11                    Моделирование временных рядов   \n",
       "12                 Безопасность компьютерных систем   \n",
       "13                                Теория баз данных   \n",
       "14                                Теория баз данных   \n",
       "\n",
       "                                             spring_1  \\\n",
       "0                            Обучение с подкреплением   \n",
       "1                            Обучение с подкреплением   \n",
       "2                            Обучение с подкреплением   \n",
       "3                              Дискретная оптимизация   \n",
       "4   Проектирование и разработка высоконагруженных ...   \n",
       "5                                   Компьютерные сети   \n",
       "6         Промышленное программирование на языке Java   \n",
       "7         Промышленное программирование на языке Java   \n",
       "8                                   Компьютерные сети   \n",
       "9                                 Машинное обучение 2   \n",
       "10  Проектирование и разработка высоконагруженных ...   \n",
       "11  Проектирование и разработка высоконагруженных ...   \n",
       "12                                  Компьютерные сети   \n",
       "13        Промышленное программирование на языке Java   \n",
       "14                                  Компьютерные сети   \n",
       "\n",
       "                                       spring_2  \\\n",
       "0                        Конфликты и кооперация   \n",
       "1       Генеративные модели в машинном обучении   \n",
       "2                           Компьютерное зрение   \n",
       "3   Промышленное программирование на языке Java   \n",
       "4          Методы сжатия и передачи медиаданных   \n",
       "5   Промышленное программирование на языке Java   \n",
       "6                             Компьютерные сети   \n",
       "7                             Компьютерные сети   \n",
       "8   Промышленное программирование на языке Java   \n",
       "9                             Компьютерные сети   \n",
       "10         Методы сжатия и передачи медиаданных   \n",
       "11         Методы сжатия и передачи медиаданных   \n",
       "12   Дополнительные главы прикладной статистики   \n",
       "13                          Машинное обучение 2   \n",
       "14  Промышленное программирование на языке Java   \n",
       "\n",
       "                                       spring_3 blended  amount of students  \n",
       "0                           Компьютерное зрение  DevOps                   2  \n",
       "1                           Компьютерное зрение  DevOps                   2  \n",
       "2       Генеративные модели в машинном обучении  DevOps                   2  \n",
       "3    Дополнительные главы прикладной статистики                           3  \n",
       "4                        Конфликты и кооперация  DevOps                   2  \n",
       "5                        Дискретная оптимизация                           3  \n",
       "6                            Системы баз данных                           2  \n",
       "7                        Дискретная оптимизация                           2  \n",
       "8                       Анализ данных в бизнесе                           2  \n",
       "9   Промышленное программирование на языке Java                           2  \n",
       "10                          Компьютерное зрение  DevOps                   2  \n",
       "11         Методы сжатия и передачи медиаданных  DevOps                   2  \n",
       "12                           Системы баз данных                           2  \n",
       "13                            Компьютерные сети                           2  \n",
       "14                       Дискретная оптимизация                           2  "
      ]
     },
     "execution_count": 198,
     "metadata": {},
     "output_type": "execute_result"
    }
   ],
   "source": [
    "gb = data.groupby(by = courses).count()['id']\n",
    "gb = gb[gb>1].to_frame().reset_index()\n",
    "print(len(gb))\n",
    "gb.rename(columns = {'id':'amount of students'})"
   ]
  },
  {
   "cell_type": "markdown",
   "metadata": {
    "id": "spu3r3vchLu0"
   },
   "source": [
    "#### 7. [0.5 балла] Найдите курсы по выбору, на которые записывались как студенты 18-го года набора, так и студенты 17-го года."
   ]
  },
  {
   "cell_type": "code",
   "execution_count": 199,
   "metadata": {
    "id": "t21fWi8ShLu0"
   },
   "outputs": [
    {
     "name": "stdout",
     "output_type": "stream",
     "text": [
      "курсы по выбору, на которые записывались как студенты 18-го года набора, так и студенты 17-го года:\n",
      "Statistical Learning Theory\n",
      "Безопасность компьютерных систем\n",
      "Сбор и обработка данных с помощью краудсорсинга\n",
      "Моделирование временных рядов\n",
      "Высокопроизводительные вычисления\n",
      "Численные методы\n",
      "Принятие решений в условиях риска и неопределённости\n"
     ]
    }
   ],
   "source": [
    "eighteen = set(data[data['18_group']!=0][courses].values.flatten())\n",
    "seventeen = set(data[data['17_group']!=0][courses].values.flatten())\n",
    "print('курсы по выбору, на которые записывались как студенты 18-го года набора, так и студенты 17-го года:')\n",
    "print(*eighteen & seventeen, sep = '\\n')"
   ]
  },
  {
   "cell_type": "markdown",
   "metadata": {
    "id": "PYfX-Dr5hLu0"
   },
   "source": [
    "Методом исключения найдите курсы, которые предлагались только студентам 18-го года и только студентам 17-го года."
   ]
  },
  {
   "cell_type": "code",
   "execution_count": 200,
   "metadata": {
    "id": "G9SWBOpehLu1"
   },
   "outputs": [
    {
     "name": "stdout",
     "output_type": "stream",
     "text": [
      "которые предлагались только студентам 18-го года :\n",
      "Язык SQL\n",
      "\n",
      "Дискретная оптимизация\n",
      "Матричные вычисления\n",
      "Теория баз данных\n",
      "Дополнительные главы прикладной статистики\n",
      "Системы баз данных\n",
      "Компьютерные сети\n",
      "Промышленное программирование на языке Java\n",
      "Машинное обучение 2\n",
      "Анализ данных в бизнесе\n"
     ]
    }
   ],
   "source": [
    "print('которые предлагались только студентам 18-го года :')\n",
    "print(*eighteen - seventeen, sep = '\\n')"
   ]
  },
  {
   "cell_type": "code",
   "execution_count": 201,
   "metadata": {},
   "outputs": [
    {
     "name": "stdout",
     "output_type": "stream",
     "text": [
      "которые предлагались только студентам 17-го года :\n",
      "Обучение с подкреплением\n",
      "Соревновательный анализ данных\n",
      "Байесовские методы машинного обучения\n",
      "Конфликты и кооперация\n",
      "Глубинное обучение в обработке звука\n",
      "Введение в дифференциальную геометрию\n",
      "Анализ неструктурированных данных\n",
      "Компьютерное зрение\n",
      "DevOps\n",
      "Генеративные модели в машинном обучении\n",
      "Методы сжатия и передачи медиаданных\n",
      "Проектирование и разработка высоконагруженных сервисов\n",
      "Символьные вычисления\n"
     ]
    }
   ],
   "source": [
    "print('которые предлагались только студентам 17-го года :')\n",
    "print(*seventeen - eighteen, sep = '\\n')"
   ]
  },
  {
   "cell_type": "markdown",
   "metadata": {
    "id": "uL45Tg5fhLu1"
   },
   "source": [
    "### Визуализации и matplotlib"
   ]
  },
  {
   "cell_type": "markdown",
   "metadata": {
    "id": "MY9lKmP2hLu1"
   },
   "source": [
    "При работе с данными часто неудобно делать какие-то выводы, если смотреть на таблицу и числа в частности, поэтому важно уметь визуализировать данные. Здесь будут описаны ключевые правила оформления графиков для **всех** домашних заданий.\n",
    "\n",
    "У matplotlib, конечно же, есть [документация](https://matplotlib.org/users/index.html) с большим количеством [примеров](https://matplotlib.org/examples/), но для начала достаточно знать про несколько основных типов графиков:\n",
    "- plot — обычный поточечный график, которым можно изображать кривые или отдельные точки;\n",
    "- hist — гистограмма, показывающая распределение некоторой величины;\n",
    "- scatter — график, показывающий взаимосвязь двух величин;\n",
    "- bar — столбцовый график, показывающий взаимосвязь количественной величины от категориальной.\n",
    "\n",
    "В этом задании вы попробуете построить один из них. Не забывайте про базовые принципы построения приличных графиков:\n",
    "- оси должны быть подписаны, причём не слишком мелко;\n",
    "- у графика должно быть название;\n",
    "- если изображено несколько графиков, то необходима поясняющая легенда;\n",
    "- все линии на графиках должны быть чётко видны (нет похожих цветов или цветов, сливающихся с фоном);\n",
    "- если отображена величина, имеющая очевидный диапазон значений (например, проценты могут быть от 0 до 100), то желательно масштабировать ось на весь диапазон значений (исключением является случай, когда вам необходимо показать малое отличие, которое незаметно в таких масштабах);\n",
    "- сетка на графике помогает оценить значения в точках на глаз, это обычно полезно, поэтому лучше ее отрисовывать;\n",
    "- если распределение на гистограмме имеет тяжёлые хвосты, лучше использовать логарифмическую шкалу.\n",
    "\n",
    "Полезные строчки:\n",
    "- для красивой картинки <code>%config InlineBackend.figure_format = 'retina'</code>\n",
    "- задаем размер (почти) всех графиков (можно выбрать другие значения) <code>plt.rcParams['figure.figsize'] = 8, 5</code>\n",
    "- размер шрифта подписей графиков <code>plt.rcParams['font.size'] = 12</code>\n",
    "- формат в котором сохраняется изображение <code>mpl.rcParams['savefig.format'] = 'pdf'</code>\n",
    "- sns – seaborn, добавляет решетку <code>sns.set_style('darkgrid')</code>"
   ]
  },
  {
   "cell_type": "code",
   "execution_count": 202,
   "metadata": {
    "id": "na9doUOFhLu1"
   },
   "outputs": [],
   "source": [
    "%matplotlib inline\n",
    "import matplotlib.pyplot as plt"
   ]
  },
  {
   "cell_type": "markdown",
   "metadata": {
    "id": "kikwLpxfhLu1"
   },
   "source": [
    "#### 8. [0.5 балла] Постройте график средних рейтингов по дням получения ответов (bar plot)."
   ]
  },
  {
   "cell_type": "code",
   "execution_count": 203,
   "metadata": {},
   "outputs": [],
   "source": [
    "data['day'] = data['timestamp'].dt.date"
   ]
  },
  {
   "cell_type": "code",
   "execution_count": 204,
   "metadata": {
    "id": "UTPLVeQvhLu2"
   },
   "outputs": [],
   "source": [
    "import seaborn as sns"
   ]
  },
  {
   "cell_type": "code",
   "execution_count": 205,
   "metadata": {},
   "outputs": [
    {
     "data": {
      "image/png": "[encoded data removed]",
      "text/plain": [
       "<Figure size 864x360 with 1 Axes>"
      ]
     },
     "metadata": {
      "image/png": {
       "height": 336,
       "width": 733
      }
     },
     "output_type": "display_data"
    }
   ],
   "source": [
    "%config InlineBackend.figure_format = 'retina'\n",
    "plt.rcParams['figure.figsize'] = 12, 5\n",
    "mpl.rcParams['savefig.format'] = 'pdf'\n",
    "plt.rcParams['font.size'] = 12\n",
    "sns.set_style('darkgrid')\n",
    "\n",
    "sns_plot = sns.barplot(x = 'day', y = 'rating', data = data).set_title('График средних рейтингов по дням получения ответов')"
   ]
  },
  {
   "cell_type": "code",
   "execution_count": 206,
   "metadata": {},
   "outputs": [],
   "source": [
    "data.drop(columns = 'day', inplace = True)"
   ]
  },
  {
   "cell_type": "markdown",
   "metadata": {
    "id": "AmsQg9_xhLu2"
   },
   "source": [
    "Сохраните график в формате pdf (так он останется векторизованным)."
   ]
  },
  {
   "cell_type": "code",
   "execution_count": 207,
   "metadata": {
    "id": "vKZNSwWghLu2"
   },
   "outputs": [],
   "source": [
    "sns_plot.figure.savefig(\"график.pdf\")"
   ]
  },
  {
   "cell_type": "markdown",
   "metadata": {
    "id": "b7SBV6_GhLu2"
   },
   "source": [
    "Еще одна билиотека для визуализации: [seaborn](https://jakevdp.github.io/PythonDataScienceHandbook/04.14-visualization-with-seaborn.html). Это настройка над matplotlib, иногда удобнее и красивее делать визуализации через неё. "
   ]
  },
  {
   "cell_type": "markdown",
   "metadata": {
    "id": "sCgWwjl0hLu2"
   },
   "source": [
    "### 2. Распределение студентов по курсам."
   ]
  },
  {
   "cell_type": "markdown",
   "metadata": {
    "id": "VNqXUpr4hLu3"
   },
   "source": [
    "Теперь вам нужно распределить студентов по осенним курсам по выбору, учитывая их предпочтения."
   ]
  },
  {
   "cell_type": "markdown",
   "metadata": {
    "id": "5cAR2FgphLu3"
   },
   "source": [
    "Алгоритм распределения студентов по курсам:\n",
    "1. По умолчанию на каждой дисциплине по выбору у 3 и 4 курсов может учиться 1 группа (до 30 студентов). Исключения описаны ниже. На blended-дисциплинах для четверокурсников количество мест не ограничено.\n",
    "2. Проводится первая волна отбора. Для каждой дисциплины формируется список тех, кто указал её первым приоритетом (если студент должен выбрать два курса по выбору, то для него дисциплины, которые он указал первым и вторым приоритетом, рассматриваются как дисциплины первого приоритета). Если желающих больше, чем мест, то выбирается топ по перцентилю рейтинга.\n",
    "3. На дисциплинах, где остались места после первой волны, формируются списки тех, кто выбрал их вторым приоритетом, и места заполняются лучшими по перцентили рейтинга студентами. После этого проводится такая же процедура для дисциплин третьего приоритета.\n",
    "4. Если студент не попал на необходимое количество курсов по итогам трёх волн, с ним связывается учебный офис и решает вопрос в индивидуальном порядке."
   ]
  },
  {
   "cell_type": "markdown",
   "metadata": {
    "id": "BiNKVwS6hLu3"
   },
   "source": [
    "Обращаем ваше внимание на следующие детали:\n",
    "\n",
    "- По умолчанию студент выбирает один осенний и один весенний курс по выбору, а также четверокурсники выбирают один blended-курс. Студенты групп 17-го года специализаций МОП и ТИ выбирают по 2 осенних и 2 весенних курса по выбору, также студенты групп 18' специализации МИ выбирают 2 осенних курса. <i>Для студентов, которые выбирают 2 курса (например, осенних) первый приоритет — <code>fall_1</code> и <code>fall_2</code>, второй приоритет — <code>fall_3</code>. Такие студенты участвуют только в двух волнах отбора</i>.\n",
    "\n",
    "- Студенты специализации МОП не могут выбрать весенним курсом по выбору Машинное обучение 2. <i>Если студент специализации МОП выбрал Машинное обучение 2, то его приоритеты сдвигаются. Из-за совпадений первого и второго курса по выбору двигать приоритеты не надо</i>.\n",
    "\n",
    "- Blended-курсы не трогайте, по ним не надо распределять, на другие курсы они никак не влияют.\n",
    "\n",
    "- Постарайтесь воздержаться от использования циклов там, где это возможно. <i>Допустимо итерироваться по <b>курсам</b>, на которые проводится отбор, и по <b>волнам</b> отбора. Если вы придумаете, как обойтись и без этих циклов, то на усмотрение проверяющего могут быть добавлены бонусные баллы. <b>Дублирование кода не признается успешным избавлением от циклов</b></i>\n",
    "\n",
    "- На выходе ожидается файл res_fall.csv с результатами распределения на осенние курсы по выбору. Файл должен быть следующего формата:\n",
    "\n",
    "    * три столбца: ID, course1, course2\n",
    "    \n",
    "    * Если студент не попал на курс, но должен был, то вместо названия курса в ячейке должна быть строка \"???\"\n",
    "    \n",
    "    * Если студент должен выбрать только один курс, то в колонке course2 для него должна стоять строка \"-\"\n",
    "    \n",
    "    * Если студент должен выбрать два курса по выбору, то порядок в колонках course1 и course2 не важен.\n",
    "    \n",
    "    * Формат csv: для сохранения воспользуйтесь df.to_csv('solution.csv', index=None)\n",
    "    \n",
    "\n",
    "Для работы вам могут понадобиться следующие данные:\n",
    "\n",
    "- Результаты опроса (вы уже использовали этот файл в первой части задания, но на всякий случай ссылка: https://www.dropbox.com/s/f4rm8sjc3v99p0m/_end_seminar.xlsx?dl=0)\n",
    "\n",
    "- Соответствие номеров групп специализациям:\n",
    "\n",
    "    * 171, 172 - МОП; 173 - ТИ; 174 — АДИС; 175, 176 — РС; 177 — АПР\n",
    "    \n",
    "    * У студентов 18-го года номера групп соответствуют номерам до распределения по специализациям.\n",
    "\n",
    "- Ограничения по количеству мест на курсах по выбору:\n",
    "\n",
    "    * Осенние: везде 30 мест, кроме Statistical Learning Theory (60 мест), Высокопроизводительных вычислений (60 мест), Анализа неструктурированных данных ($\\infty$ мест)\n",
    "\n",
    "    * Весенние: везде 30 мест, кроме Обучения с подкреплением (60 мест), Анализа данных в бизнесе (60 мест).\n",
    "\n",
    "\n",
    "Кстати, убедитесь, что в данных больше нет пропусков и повторных записей."
   ]
  },
  {
   "cell_type": "markdown",
   "metadata": {
    "id": "o5t55IcQhLu4"
   },
   "source": [
    "#### 0. Проверка\n",
    "\n",
    "Для начала давайте убедимся, что вы успешно выполнили задания первой части и проверим ваши данные на наличие пропусков и повторов:"
   ]
  },
  {
   "cell_type": "code",
   "execution_count": 208,
   "metadata": {},
   "outputs": [],
   "source": [
    "import copy"
   ]
  },
  {
   "cell_type": "code",
   "execution_count": 209,
   "metadata": {},
   "outputs": [],
   "source": [
    "df = copy.deepcopy(data)"
   ]
  },
  {
   "cell_type": "code",
   "execution_count": 210,
   "metadata": {
    "id": "34HWEdVdhLu4"
   },
   "outputs": [],
   "source": [
    "assert df.shape[0] == 347, 'В таблице остались повторы или потеряны данные'\n",
    "\n",
    "assert df.isna().sum().sum() == 0, 'В таблице остались пропуски'"
   ]
  },
  {
   "cell_type": "markdown",
   "metadata": {
    "id": "_ImUFyG3hLu4"
   },
   "source": [
    "Если вы не получили AssertionError, то можете продолжать."
   ]
  },
  {
   "cell_type": "markdown",
   "metadata": {
    "id": "LTGSwwvAhLu4"
   },
   "source": [
    "#### 1. [1 балл] Создайте новый признак, обозначающий, сколько осенних курсов должен выбрать студент\n",
    "\n",
    "В этом вам может помочь информация о специализации и группе стундента."
   ]
  },
  {
   "cell_type": "markdown",
   "metadata": {},
   "source": [
    "По умолчанию студент выбирает один осенний и один весенний курс по выбору, а также четверокурсники выбирают один blended-курс. Студенты групп 17-го года специализаций МОП и ТИ выбирают по 2 осенних и 2 весенних курса по выбору, также студенты групп 18' специализации МИ выбирают 2 осенних курса"
   ]
  },
  {
   "cell_type": "code",
   "execution_count": 211,
   "metadata": {
    "id": "ouxo0kHFhLu4"
   },
   "outputs": [],
   "source": [
    "col_name = 'autumn num'\n",
    "df[col_name] = 1 + ((df['is_mi'] == 1)|(df['17_group']+df['18_group']<174))"
   ]
  },
  {
   "cell_type": "markdown",
   "metadata": {
    "id": "S47aq1sQhLu4"
   },
   "source": [
    "Проверка:"
   ]
  },
  {
   "cell_type": "code",
   "execution_count": 212,
   "metadata": {
    "id": "OlOgzDKDhLu5"
   },
   "outputs": [],
   "source": [
    "assert(df[df['id'] == '2662600c2c37e11e62f6ee0b88452f22'][col_name] == 2).all()\n",
    "assert(df[df['id'] == 'd555d2805e1d93d4f023e57dc4c8f403'][col_name] == 2).all()\n",
    "assert(df[df['id'] == '8fe79f84f36e3a5d2d6745621321302c'][col_name] == 1).all()\n",
    "assert(df[df['id'] == 'e4caca755ee0bdd711e18fb8084958b5'][col_name] == 1).all()"
   ]
  },
  {
   "cell_type": "markdown",
   "metadata": {
    "id": "VtQYhwuPhLu5"
   },
   "source": [
    "#### 2. [2 балла] Распределите студентов в соответствии с первым приоритетом"
   ]
  },
  {
   "cell_type": "markdown",
   "metadata": {},
   "source": [
    "    * Осенние: везде 30 мест, кроме Statistical Learning Theory (60 мест), Высокопроизводительных вычислений (60 мест), Анализа неструктурированных данных ($\\infty$ мест)\n"
   ]
  },
  {
   "cell_type": "code",
   "execution_count": 213,
   "metadata": {},
   "outputs": [],
   "source": [
    "#здесь собираем все курсы на которые можно осенью записаться\n",
    "autumn_courses = set(df['fall_1'])|set(df['fall_2'])|set(df['fall_3'])"
   ]
  },
  {
   "cell_type": "code",
   "execution_count": 214,
   "metadata": {},
   "outputs": [],
   "source": [
    "#res_fall = pd.DataFrame({'id': df.index, 'course1': '???', 'course2': '-'}).set_index('id')"
   ]
  },
  {
   "cell_type": "code",
   "execution_count": 215,
   "metadata": {},
   "outputs": [],
   "source": [
    "#составляем словарь с количеством мест на курсах\n",
    "places = {i:30 for i in autumn_courses}\n",
    "places['Statistical Learning Theory']+=30\n",
    "places['Высокопроизводительные вычисления']+=30\n",
    "places['Анализ неструктурированных данных']+=10000"
   ]
  },
  {
   "cell_type": "code",
   "execution_count": 216,
   "metadata": {},
   "outputs": [],
   "source": [
    "df['course1']=None\n",
    "df['course2']=None"
   ]
  },
  {
   "cell_type": "code",
   "execution_count": 217,
   "metadata": {},
   "outputs": [],
   "source": [
    "df['course1'], df['course2'] = None, None\n",
    "for course in autumn_courses:\n",
    "    students = df[(df['fall_1'] == course)|((df['fall_2'] == course)&(df['autumn num'] == 2))].nsmallest(places[course], 'percentile')\n",
    "    df.loc[students[students['course1'].isna()].index, 'course1'] = course\n",
    "    df.loc[students[~students['course1'].isna()].index, 'course2'] = course"
   ]
  },
  {
   "cell_type": "markdown",
   "metadata": {
    "id": "vc5zXP5hhLu5"
   },
   "source": [
    "Здесь для проверки приведена таблица, в которой есть 2 дополнительные колонки:\n",
    "    \n",
    "    1) is_first_place - является ли студент лучшим по перцентили хотя бы на одном из курсов, куда он был зачислен \n",
    "    (True / NaN)\n",
    "    \n",
    "    2) is_last_place  - является ли студент худшим по перцентили хотя бы на одном из курсов, куда он был зачислен (True / NaN)"
   ]
  },
  {
   "cell_type": "code",
   "execution_count": 218,
   "metadata": {},
   "outputs": [],
   "source": [
    "for course in autumn_courses:\n",
    "    df.loc[df[(df['course1'] == course)|(df['course2'] == course)].nsmallest(1, 'percentile').index, 'is_first_place'] = True\n",
    "    df.loc[df[(df['course1'] == course)|(df['course2'] == course)].nlargest(1, 'percentile').index, 'is_last_place'] = True"
   ]
  },
  {
   "cell_type": "code",
   "execution_count": 219,
   "metadata": {},
   "outputs": [],
   "source": [
    "check_df = pd.read_csv('_2_task_check.csv')"
   ]
  },
  {
   "cell_type": "markdown",
   "metadata": {
    "id": "E_fbyB9qhLu5"
   },
   "source": [
    "После распределения студентов в соответствии с первым приоритетом добавьте в свой датафрейм аналогичные признаки и запустите проверку:"
   ]
  },
  {
   "cell_type": "code",
   "execution_count": 220,
   "metadata": {
    "id": "GOAzQeYehLu6"
   },
   "outputs": [],
   "source": [
    "fir_col_name =       'is_first_place'\n",
    "last_col_name =      'is_last_place'\n",
    "\n",
    "\n",
    "assert((df[df[fir_col_name].isna() == False][['id']].sort_values('id').reset_index(drop=True)\n",
    "        ==\n",
    "        check_df[check_df['is_first_place'].isna() == False][['id']].sort_values('id').reset_index(drop=True)\n",
    "       ).id.values).all()\n",
    "\n",
    "\n",
    "assert((df[df[last_col_name].isna() == False][['id']].sort_values('id').reset_index(drop=True)\n",
    "       == \n",
    "       check_df[check_df['is_last_place'].isna() == False][['id']].sort_values('id').reset_index(drop=True)\n",
    "      ).id.values).all()"
   ]
  },
  {
   "cell_type": "markdown",
   "metadata": {
    "id": "RO6DwNNFhLu6"
   },
   "source": [
    "#### 3. [3 балла] Проведите все три волны отбора студентов на курсы по выбору"
   ]
  },
  {
   "cell_type": "markdown",
   "metadata": {
    "id": "1xQjV9BuhLu6"
   },
   "source": [
    "**Отправьте свой файл res_fall.csv в контест (https://contest.yandex.ru/contest/29176/problems/A/) и прикрепите/укажите ниже ваш никнейм и ссылку на успешную посылку.**"
   ]
  },
  {
   "cell_type": "markdown",
   "metadata": {
    "id": "QRTbPrgbhLu6"
   },
   "source": [
    "*Дисклеймер:*\n",
    "\n",
    "Контест выдаётся для самопроверки. Если ваша посылка получила ОК, то код, скорее всего, правильный. Но при этом оценка всё равно может быть снижена в случае обнаружения неэффективностей или ошибок в коде. Если вы сдадите в AnyTask очевидно неработающий код или ноутбук без кода, но при этом в контест будет сдан корректный файл, то это будет расцениваться как плагиат."
   ]
  },
  {
   "cell_type": "markdown",
   "metadata": {
    "id": "1IkQa_gdhLu6"
   },
   "source": [
    "На всякий случай просим вас сдать вместе с ноутбуком файл res_fall.csv в anytask"
   ]
  },
  {
   "cell_type": "markdown",
   "metadata": {},
   "source": [
    "# У МЕНЯ ДВА СТУДЕНТА НЕ ПОДХОДЯТ АААААААААА"
   ]
  },
  {
   "cell_type": "markdown",
   "metadata": {},
   "source": [
    "поэтому ну код такой ну размашистый, так проще было бы вычислить этих двух несчастных"
   ]
  },
  {
   "cell_type": "code",
   "execution_count": 221,
   "metadata": {},
   "outputs": [],
   "source": [
    "df = copy.deepcopy(data)\n",
    "autumn_courses = set(df['fall_1'])|set(df['fall_2'])|set(df['fall_3'])\n",
    "\n",
    "col_name = 'autumn num'\n",
    "df[col_name] = 1 + ((df['is_mi'] == 1)|(df['17_group']+df['18_group']<174))\n",
    "\n",
    "places = {i:30 for i in autumn_courses}\n",
    "places['Statistical Learning Theory']+=30\n",
    "places['Высокопроизводительные вычисления']+=30\n",
    "places['Анализ неструктурированных данных']+=10000"
   ]
  },
  {
   "cell_type": "code",
   "execution_count": 222,
   "metadata": {},
   "outputs": [],
   "source": [
    "df['course1'], df['course2'] = None, None"
   ]
  },
  {
   "cell_type": "code",
   "execution_count": 223,
   "metadata": {},
   "outputs": [],
   "source": [
    "for course in autumn_courses:\n",
    "    students = df[(df['fall_1'] == course)|((df['fall_2'] == course)&(df['autumn num'] == 2))].nsmallest(places[course], 'percentile')\n",
    "    first_free = students[students['course1'].isnull()].index\n",
    "    df.loc[first_free, 'course1'] = course\n",
    "    second_free = students[(~students['course1'].isnull())&(students['course1'] != course)].index\n",
    "    df.loc[second_free, 'course2'] = course\n",
    "    \n",
    "    places[course]-= (len(first_free)+len(second_free))"
   ]
  },
  {
   "cell_type": "code",
   "execution_count": 224,
   "metadata": {},
   "outputs": [],
   "source": [
    "for course in autumn_courses:\n",
    "    students = df[(df['fall_2'] == course)&(df['autumn num'] == 1)&(df['course1'].isnull())].nsmallest(places[course], 'percentile').index\n",
    "    df.loc[students, 'course1'] = course\n",
    "    \n",
    "    places[course]-= (len(students))"
   ]
  },
  {
   "cell_type": "code",
   "execution_count": 225,
   "metadata": {},
   "outputs": [],
   "source": [
    "for course in autumn_courses:\n",
    "    students = df[(df['fall_3'] == course)&(df['course1'].isnull()|(df['course2'].isnull()&(df['autumn num']==2)))].nsmallest(places[course], 'percentile')\n",
    "    first_free = students[students['course1'].isnull()].index\n",
    "    df.loc[first_free, 'course1'] = course\n",
    "    second_free = students[(~students['course1'].isnull())&(students['course1'] != course)].index\n",
    "    df.loc[second_free, 'course2'] = course\n",
    "    \n",
    "    places[course]-= (len(first_free)+len(second_free))"
   ]
  },
  {
   "cell_type": "code",
   "execution_count": 226,
   "metadata": {},
   "outputs": [],
   "source": [
    "df.loc[(df['autumn num'] == 1),'course2'] = \"-\"\n",
    "df.fillna('???', inplace = True)\n",
    "df.loc[:, ('id', 'course1', 'course2')].rename(columns = {'id': 'ID'}).to_csv('solution.csv', index=None)"
   ]
  },
  {
   "cell_type": "markdown",
   "metadata": {
    "id": "k8d711qGhLu7"
   },
   "source": [
    "**Дополнительное задание. [2 бонусных балла] Распределите таким же образом студентов еще и на весенние курсы по выбору.**\n",
    "\n",
    "Если ваш код был хорошо структурирован, то это не составит проблем. \n",
    "\n",
    "Если вы выполнили это задание, сдайте среди прочего файл res_spring.csv в таком же формате, как и res_fall.csv."
   ]
  },
  {
   "cell_type": "markdown",
   "metadata": {},
   "source": [
    "Студенты специализации МОП не могут выбрать весенним курсом по выбору Машинное обучение 2. Если студент специализации МОП выбрал Машинное обучение 2, то его приоритеты сдвигаются. Из-за совпадений первого и второго курса по выбору двигать приоритеты не надо"
   ]
  },
  {
   "cell_type": "code",
   "execution_count": 252,
   "metadata": {
    "id": "hwmusOGThLu7"
   },
   "outputs": [],
   "source": [
    "df = copy.deepcopy(data)\n",
    "spring_courses = set(df['spring_1'])|set(df['spring_2'])|set(df['spring_3'])\n",
    "\n",
    "col_name = 'autumn num'\n",
    "df[col_name] = 1 + (df['17_group']+ df['18_group']<174)\n",
    "\n",
    "places = {i:30 for i in spring_courses}\n",
    "places['Обучение с подкреплением']+=30\n",
    "places['Анализ данных в бизнесе']+=30"
   ]
  },
  {
   "cell_type": "code",
   "execution_count": 253,
   "metadata": {
    "scrolled": false
   },
   "outputs": [
    {
     "data": {
      "text/html": [
       "<div>\n",
       "<style scoped>\n",
       "    .dataframe tbody tr th:only-of-type {\n",
       "        vertical-align: middle;\n",
       "    }\n",
       "\n",
       "    .dataframe tbody tr th {\n",
       "        vertical-align: top;\n",
       "    }\n",
       "\n",
       "    .dataframe thead th {\n",
       "        text-align: right;\n",
       "    }\n",
       "</style>\n",
       "<table border=\"1\" class=\"dataframe\">\n",
       "  <thead>\n",
       "    <tr style=\"text-align: right;\">\n",
       "      <th></th>\n",
       "      <th>timestamp</th>\n",
       "      <th>id</th>\n",
       "      <th>rating</th>\n",
       "      <th>18_group</th>\n",
       "      <th>is_mi</th>\n",
       "      <th>fall_1</th>\n",
       "      <th>fall_2</th>\n",
       "      <th>fall_3</th>\n",
       "      <th>spring_1</th>\n",
       "      <th>spring_2</th>\n",
       "      <th>spring_3</th>\n",
       "      <th>is_first_time</th>\n",
       "      <th>percentile</th>\n",
       "      <th>17_group</th>\n",
       "      <th>blended</th>\n",
       "      <th>is_ml_student</th>\n",
       "      <th>autumn num</th>\n",
       "    </tr>\n",
       "  </thead>\n",
       "  <tbody>\n",
       "    <tr>\n",
       "      <th>20</th>\n",
       "      <td>2020-05-15 21:55:16.699</td>\n",
       "      <td>f0f6f3881894172a0f04e79b554b49e6</td>\n",
       "      <td>673</td>\n",
       "      <td>181.0</td>\n",
       "      <td>0.0</td>\n",
       "      <td>Безопасность компьютерных систем</td>\n",
       "      <td>Сбор и обработка данных с помощью краудсорсинга</td>\n",
       "      <td>Принятие решений в условиях риска и неопределё...</td>\n",
       "      <td>Машинное обучение 2</td>\n",
       "      <td>Численные методы</td>\n",
       "      <td>Дополнительные главы прикладной статистики</td>\n",
       "      <td>Да</td>\n",
       "      <td>0.300448</td>\n",
       "      <td>0.0</td>\n",
       "      <td></td>\n",
       "      <td>1.0</td>\n",
       "      <td>1</td>\n",
       "    </tr>\n",
       "    <tr>\n",
       "      <th>27</th>\n",
       "      <td>2020-05-16 13:02:24.706</td>\n",
       "      <td>5daee1bd98559bb2c52373e416942225</td>\n",
       "      <td>593</td>\n",
       "      <td>182.0</td>\n",
       "      <td>0.0</td>\n",
       "      <td>Сбор и обработка данных с помощью краудсорсинга</td>\n",
       "      <td>Statistical Learning Theory</td>\n",
       "      <td>Моделирование временных рядов</td>\n",
       "      <td>Машинное обучение 2</td>\n",
       "      <td>Промышленное программирование на языке Java</td>\n",
       "      <td>Анализ данных в бизнесе</td>\n",
       "      <td>Нет</td>\n",
       "      <td>0.681614</td>\n",
       "      <td>0.0</td>\n",
       "      <td></td>\n",
       "      <td>1.0</td>\n",
       "      <td>1</td>\n",
       "    </tr>\n",
       "    <tr>\n",
       "      <th>119</th>\n",
       "      <td>2020-05-18 20:34:07.220</td>\n",
       "      <td>fc2c60b8004aa91bc272df84628621ff</td>\n",
       "      <td>639</td>\n",
       "      <td>183.0</td>\n",
       "      <td>0.0</td>\n",
       "      <td>Язык SQL</td>\n",
       "      <td>Сбор и обработка данных с помощью краудсорсинга</td>\n",
       "      <td>Statistical Learning Theory</td>\n",
       "      <td>Системы баз данных</td>\n",
       "      <td>Машинное обучение 2</td>\n",
       "      <td>Анализ данных в бизнесе</td>\n",
       "      <td>Нет</td>\n",
       "      <td>0.461883</td>\n",
       "      <td>0.0</td>\n",
       "      <td></td>\n",
       "      <td>1.0</td>\n",
       "      <td>1</td>\n",
       "    </tr>\n",
       "    <tr>\n",
       "      <th>137</th>\n",
       "      <td>2020-05-18 21:24:23.667</td>\n",
       "      <td>6ed89e424179b0510e3f7c0cb7369ad6</td>\n",
       "      <td>558</td>\n",
       "      <td>187.0</td>\n",
       "      <td>0.0</td>\n",
       "      <td>Моделирование временных рядов</td>\n",
       "      <td>Матричные вычисления</td>\n",
       "      <td>Язык SQL</td>\n",
       "      <td>Анализ данных в бизнесе</td>\n",
       "      <td>Промышленное программирование на языке Java</td>\n",
       "      <td>Машинное обучение 2</td>\n",
       "      <td>Да</td>\n",
       "      <td>0.838565</td>\n",
       "      <td>0.0</td>\n",
       "      <td></td>\n",
       "      <td>1.0</td>\n",
       "      <td>1</td>\n",
       "    </tr>\n",
       "    <tr>\n",
       "      <th>179</th>\n",
       "      <td>2020-05-18 23:01:03.214</td>\n",
       "      <td>abceddfa2fc4eae8cff4a4e712abb3fb</td>\n",
       "      <td>664</td>\n",
       "      <td>183.0</td>\n",
       "      <td>0.0</td>\n",
       "      <td>Моделирование временных рядов</td>\n",
       "      <td>Принятие решений в условиях риска и неопределё...</td>\n",
       "      <td>Statistical Learning Theory</td>\n",
       "      <td>Машинное обучение 2</td>\n",
       "      <td>Промышленное программирование на языке Java</td>\n",
       "      <td>Дополнительные главы прикладной статистики</td>\n",
       "      <td>Да</td>\n",
       "      <td>0.345291</td>\n",
       "      <td>0.0</td>\n",
       "      <td></td>\n",
       "      <td>1.0</td>\n",
       "      <td>1</td>\n",
       "    </tr>\n",
       "  </tbody>\n",
       "</table>\n",
       "</div>"
      ],
      "text/plain": [
       "                  timestamp                                id  rating  \\\n",
       "20  2020-05-15 21:55:16.699  f0f6f3881894172a0f04e79b554b49e6     673   \n",
       "27  2020-05-16 13:02:24.706  5daee1bd98559bb2c52373e416942225     593   \n",
       "119 2020-05-18 20:34:07.220  fc2c60b8004aa91bc272df84628621ff     639   \n",
       "137 2020-05-18 21:24:23.667  6ed89e424179b0510e3f7c0cb7369ad6     558   \n",
       "179 2020-05-18 23:01:03.214  abceddfa2fc4eae8cff4a4e712abb3fb     664   \n",
       "\n",
       "     18_group  is_mi                                           fall_1  \\\n",
       "20      181.0    0.0                 Безопасность компьютерных систем   \n",
       "27      182.0    0.0  Сбор и обработка данных с помощью краудсорсинга   \n",
       "119     183.0    0.0                                         Язык SQL   \n",
       "137     187.0    0.0                    Моделирование временных рядов   \n",
       "179     183.0    0.0                    Моделирование временных рядов   \n",
       "\n",
       "                                                fall_2  \\\n",
       "20     Сбор и обработка данных с помощью краудсорсинга   \n",
       "27                         Statistical Learning Theory   \n",
       "119    Сбор и обработка данных с помощью краудсорсинга   \n",
       "137                               Матричные вычисления   \n",
       "179  Принятие решений в условиях риска и неопределё...   \n",
       "\n",
       "                                                fall_3  \\\n",
       "20   Принятие решений в условиях риска и неопределё...   \n",
       "27                       Моделирование временных рядов   \n",
       "119                        Statistical Learning Theory   \n",
       "137                                           Язык SQL   \n",
       "179                        Statistical Learning Theory   \n",
       "\n",
       "                    spring_1                                     spring_2  \\\n",
       "20       Машинное обучение 2                             Численные методы   \n",
       "27       Машинное обучение 2  Промышленное программирование на языке Java   \n",
       "119       Системы баз данных                          Машинное обучение 2   \n",
       "137  Анализ данных в бизнесе  Промышленное программирование на языке Java   \n",
       "179      Машинное обучение 2  Промышленное программирование на языке Java   \n",
       "\n",
       "                                       spring_3 is_first_time  percentile  \\\n",
       "20   Дополнительные главы прикладной статистики            Да    0.300448   \n",
       "27                      Анализ данных в бизнесе           Нет    0.681614   \n",
       "119                     Анализ данных в бизнесе           Нет    0.461883   \n",
       "137                         Машинное обучение 2            Да    0.838565   \n",
       "179  Дополнительные главы прикладной статистики            Да    0.345291   \n",
       "\n",
       "     17_group blended  is_ml_student  autumn num  \n",
       "20        0.0                    1.0           1  \n",
       "27        0.0                    1.0           1  \n",
       "119       0.0                    1.0           1  \n",
       "137       0.0                    1.0           1  \n",
       "179       0.0                    1.0           1  "
      ]
     },
     "execution_count": 253,
     "metadata": {},
     "output_type": "execute_result"
    }
   ],
   "source": [
    "df[(df['is_ml_student']!=0)& ((df['spring_1'] == 'Машинное обучение 2')|(df['spring_2'] == 'Машинное обучение 2')|(df['spring_3'] == 'Машинное обучение 2'))]"
   ]
  },
  {
   "cell_type": "code",
   "execution_count": 254,
   "metadata": {},
   "outputs": [
    {
     "data": {
      "text/html": [
       "<div>\n",
       "<style scoped>\n",
       "    .dataframe tbody tr th:only-of-type {\n",
       "        vertical-align: middle;\n",
       "    }\n",
       "\n",
       "    .dataframe tbody tr th {\n",
       "        vertical-align: top;\n",
       "    }\n",
       "\n",
       "    .dataframe thead th {\n",
       "        text-align: right;\n",
       "    }\n",
       "</style>\n",
       "<table border=\"1\" class=\"dataframe\">\n",
       "  <thead>\n",
       "    <tr style=\"text-align: right;\">\n",
       "      <th></th>\n",
       "      <th>timestamp</th>\n",
       "      <th>id</th>\n",
       "      <th>rating</th>\n",
       "      <th>18_group</th>\n",
       "      <th>is_mi</th>\n",
       "      <th>fall_1</th>\n",
       "      <th>fall_2</th>\n",
       "      <th>fall_3</th>\n",
       "      <th>spring_1</th>\n",
       "      <th>spring_2</th>\n",
       "      <th>spring_3</th>\n",
       "      <th>is_first_time</th>\n",
       "      <th>percentile</th>\n",
       "      <th>17_group</th>\n",
       "      <th>blended</th>\n",
       "      <th>is_ml_student</th>\n",
       "      <th>autumn num</th>\n",
       "    </tr>\n",
       "  </thead>\n",
       "  <tbody>\n",
       "  </tbody>\n",
       "</table>\n",
       "</div>"
      ],
      "text/plain": [
       "Empty DataFrame\n",
       "Columns: [timestamp, id, rating, 18_group, is_mi, fall_1, fall_2, fall_3, spring_1, spring_2, spring_3, is_first_time, percentile, 17_group, blended, is_ml_student, autumn num]\n",
       "Index: []"
      ]
     },
     "execution_count": 254,
     "metadata": {},
     "output_type": "execute_result"
    }
   ],
   "source": [
    "df[(df['17_group'].isin([171, 172]))& ((df['spring_1'] == 'Машинное обучение 2')|(df['spring_2'] == 'Машинное обучение 2')|(df['spring_3'] == 'Машинное обучение 2'))]"
   ]
  },
  {
   "cell_type": "code",
   "execution_count": 255,
   "metadata": {},
   "outputs": [],
   "source": [
    "df.loc[(df['is_ml_student']!=0)&(df['spring_1'] == 'Машинное обучение 2'), 'spring_1'] = 0\n",
    "df.loc[(df['is_ml_student']!=0)&(df['spring_2'] == 'Машинное обучение 2'), 'spring_2'] = 0\n",
    "df.loc[(df['is_ml_student']!=0)&(df['spring_3'] == 'Машинное обучение 2'), 'spring_3'] = 0"
   ]
  },
  {
   "cell_type": "code",
   "execution_count": 261,
   "metadata": {},
   "outputs": [
    {
     "ename": "ValueError",
     "evalue": "Setting with non-unique columns is not allowed.",
     "output_type": "error",
     "traceback": [
      "\u001b[1;31m---------------------------------------------------------------------------\u001b[0m",
      "\u001b[1;31mValueError\u001b[0m                                Traceback (most recent call last)",
      "\u001b[1;32m<ipython-input-261-a095c666275f>\u001b[0m in \u001b[0;36m<module>\u001b[1;34m\u001b[0m\n\u001b[0;32m      1\u001b[0m \u001b[0mfilt\u001b[0m \u001b[1;33m=\u001b[0m \u001b[0mdf\u001b[0m\u001b[1;33m[\u001b[0m\u001b[1;34m'spring_1'\u001b[0m\u001b[1;33m]\u001b[0m \u001b[1;33m==\u001b[0m \u001b[1;36m0\u001b[0m\u001b[1;33m\u001b[0m\u001b[1;33m\u001b[0m\u001b[0m\n\u001b[0;32m      2\u001b[0m \u001b[0mfilt2\u001b[0m \u001b[1;33m=\u001b[0m \u001b[0mdf\u001b[0m\u001b[1;33m[\u001b[0m\u001b[1;34m'spring_2'\u001b[0m\u001b[1;33m]\u001b[0m \u001b[1;33m==\u001b[0m \u001b[1;36m0\u001b[0m\u001b[1;33m\u001b[0m\u001b[1;33m\u001b[0m\u001b[0m\n\u001b[1;32m----> 3\u001b[1;33m \u001b[0mdf\u001b[0m\u001b[1;33m.\u001b[0m\u001b[0mloc\u001b[0m\u001b[1;33m[\u001b[0m\u001b[0mfilt\u001b[0m\u001b[1;33m,\u001b[0m \u001b[0mdf\u001b[0m\u001b[1;33m[\u001b[0m\u001b[1;34m'spring_1'\u001b[0m\u001b[1;33m]\u001b[0m\u001b[1;33m]\u001b[0m \u001b[1;33m=\u001b[0m \u001b[0mdf\u001b[0m\u001b[1;33m.\u001b[0m\u001b[0mloc\u001b[0m\u001b[1;33m[\u001b[0m\u001b[0mfilt\u001b[0m\u001b[1;33m,\u001b[0m \u001b[0mdf\u001b[0m\u001b[1;33m[\u001b[0m\u001b[1;34m'spring_2'\u001b[0m\u001b[1;33m]\u001b[0m\u001b[1;33m]\u001b[0m\u001b[1;33m\u001b[0m\u001b[1;33m\u001b[0m\u001b[0m\n\u001b[0m\u001b[0;32m      4\u001b[0m \u001b[0mdf\u001b[0m\u001b[1;33m.\u001b[0m\u001b[0mloc\u001b[0m\u001b[1;33m[\u001b[0m\u001b[0mfilt\u001b[0m\u001b[1;33m|\u001b[0m\u001b[0mfilt2\u001b[0m\u001b[1;33m,\u001b[0m \u001b[0mdf\u001b[0m\u001b[1;33m[\u001b[0m\u001b[1;34m'spring_2'\u001b[0m\u001b[1;33m]\u001b[0m\u001b[1;33m]\u001b[0m \u001b[1;33m=\u001b[0m \u001b[0mdf\u001b[0m\u001b[1;33m.\u001b[0m\u001b[0mloc\u001b[0m\u001b[1;33m[\u001b[0m\u001b[0mfilt\u001b[0m\u001b[1;33m|\u001b[0m\u001b[0mfilt2\u001b[0m\u001b[1;33m,\u001b[0m \u001b[0mdf\u001b[0m\u001b[1;33m[\u001b[0m\u001b[1;34m'spring_3'\u001b[0m\u001b[1;33m]\u001b[0m\u001b[1;33m]\u001b[0m\u001b[1;33m\u001b[0m\u001b[1;33m\u001b[0m\u001b[0m\n\u001b[0;32m      5\u001b[0m \u001b[0mdf\u001b[0m\u001b[1;33m.\u001b[0m\u001b[0mloc\u001b[0m\u001b[1;33m[\u001b[0m\u001b[0mfilt\u001b[0m\u001b[1;33m|\u001b[0m\u001b[0mfilt2\u001b[0m\u001b[1;33m,\u001b[0m \u001b[0mdf\u001b[0m\u001b[1;33m[\u001b[0m\u001b[1;34m'spring_3'\u001b[0m\u001b[1;33m]\u001b[0m\u001b[1;33m]\u001b[0m \u001b[1;33m=\u001b[0m \u001b[1;36m0\u001b[0m\u001b[1;33m\u001b[0m\u001b[1;33m\u001b[0m\u001b[0m\n",
      "\u001b[1;32m~\\anaconda3\\lib\\site-packages\\pandas\\core\\indexing.py\u001b[0m in \u001b[0;36m__setitem__\u001b[1;34m(self, key, value)\u001b[0m\n\u001b[0;32m    690\u001b[0m \u001b[1;33m\u001b[0m\u001b[0m\n\u001b[0;32m    691\u001b[0m         \u001b[0miloc\u001b[0m \u001b[1;33m=\u001b[0m \u001b[0mself\u001b[0m \u001b[1;32mif\u001b[0m \u001b[0mself\u001b[0m\u001b[1;33m.\u001b[0m\u001b[0mname\u001b[0m \u001b[1;33m==\u001b[0m \u001b[1;34m\"iloc\"\u001b[0m \u001b[1;32melse\u001b[0m \u001b[0mself\u001b[0m\u001b[1;33m.\u001b[0m\u001b[0mobj\u001b[0m\u001b[1;33m.\u001b[0m\u001b[0miloc\u001b[0m\u001b[1;33m\u001b[0m\u001b[1;33m\u001b[0m\u001b[0m\n\u001b[1;32m--> 692\u001b[1;33m         \u001b[0miloc\u001b[0m\u001b[1;33m.\u001b[0m\u001b[0m_setitem_with_indexer\u001b[0m\u001b[1;33m(\u001b[0m\u001b[0mindexer\u001b[0m\u001b[1;33m,\u001b[0m \u001b[0mvalue\u001b[0m\u001b[1;33m,\u001b[0m \u001b[0mself\u001b[0m\u001b[1;33m.\u001b[0m\u001b[0mname\u001b[0m\u001b[1;33m)\u001b[0m\u001b[1;33m\u001b[0m\u001b[1;33m\u001b[0m\u001b[0m\n\u001b[0m\u001b[0;32m    693\u001b[0m \u001b[1;33m\u001b[0m\u001b[0m\n\u001b[0;32m    694\u001b[0m     \u001b[1;32mdef\u001b[0m \u001b[0m_validate_key\u001b[0m\u001b[1;33m(\u001b[0m\u001b[0mself\u001b[0m\u001b[1;33m,\u001b[0m \u001b[0mkey\u001b[0m\u001b[1;33m,\u001b[0m \u001b[0maxis\u001b[0m\u001b[1;33m:\u001b[0m \u001b[0mint\u001b[0m\u001b[1;33m)\u001b[0m\u001b[1;33m:\u001b[0m\u001b[1;33m\u001b[0m\u001b[1;33m\u001b[0m\u001b[0m\n",
      "\u001b[1;32m~\\anaconda3\\lib\\site-packages\\pandas\\core\\indexing.py\u001b[0m in \u001b[0;36m_setitem_with_indexer\u001b[1;34m(self, indexer, value, name)\u001b[0m\n\u001b[0;32m   1633\u001b[0m         \u001b[1;32mif\u001b[0m \u001b[0mtake_split_path\u001b[0m\u001b[1;33m:\u001b[0m\u001b[1;33m\u001b[0m\u001b[1;33m\u001b[0m\u001b[0m\n\u001b[0;32m   1634\u001b[0m             \u001b[1;31m# We have to operate column-wise\u001b[0m\u001b[1;33m\u001b[0m\u001b[1;33m\u001b[0m\u001b[1;33m\u001b[0m\u001b[0m\n\u001b[1;32m-> 1635\u001b[1;33m             \u001b[0mself\u001b[0m\u001b[1;33m.\u001b[0m\u001b[0m_setitem_with_indexer_split_path\u001b[0m\u001b[1;33m(\u001b[0m\u001b[0mindexer\u001b[0m\u001b[1;33m,\u001b[0m \u001b[0mvalue\u001b[0m\u001b[1;33m,\u001b[0m \u001b[0mname\u001b[0m\u001b[1;33m)\u001b[0m\u001b[1;33m\u001b[0m\u001b[1;33m\u001b[0m\u001b[0m\n\u001b[0m\u001b[0;32m   1636\u001b[0m         \u001b[1;32melse\u001b[0m\u001b[1;33m:\u001b[0m\u001b[1;33m\u001b[0m\u001b[1;33m\u001b[0m\u001b[0m\n\u001b[0;32m   1637\u001b[0m             \u001b[0mself\u001b[0m\u001b[1;33m.\u001b[0m\u001b[0m_setitem_single_block\u001b[0m\u001b[1;33m(\u001b[0m\u001b[0mindexer\u001b[0m\u001b[1;33m,\u001b[0m \u001b[0mvalue\u001b[0m\u001b[1;33m,\u001b[0m \u001b[0mname\u001b[0m\u001b[1;33m)\u001b[0m\u001b[1;33m\u001b[0m\u001b[1;33m\u001b[0m\u001b[0m\n",
      "\u001b[1;32m~\\anaconda3\\lib\\site-packages\\pandas\\core\\indexing.py\u001b[0m in \u001b[0;36m_setitem_with_indexer_split_path\u001b[1;34m(self, indexer, value, name)\u001b[0m\n\u001b[0;32m   1667\u001b[0m \u001b[1;33m\u001b[0m\u001b[0m\n\u001b[0;32m   1668\u001b[0m             \u001b[1;32mif\u001b[0m \u001b[0misinstance\u001b[0m\u001b[1;33m(\u001b[0m\u001b[0mvalue\u001b[0m\u001b[1;33m,\u001b[0m \u001b[0mABCDataFrame\u001b[0m\u001b[1;33m)\u001b[0m\u001b[1;33m:\u001b[0m\u001b[1;33m\u001b[0m\u001b[1;33m\u001b[0m\u001b[0m\n\u001b[1;32m-> 1669\u001b[1;33m                 \u001b[0mself\u001b[0m\u001b[1;33m.\u001b[0m\u001b[0m_setitem_with_indexer_frame_value\u001b[0m\u001b[1;33m(\u001b[0m\u001b[0mindexer\u001b[0m\u001b[1;33m,\u001b[0m \u001b[0mvalue\u001b[0m\u001b[1;33m,\u001b[0m \u001b[0mname\u001b[0m\u001b[1;33m)\u001b[0m\u001b[1;33m\u001b[0m\u001b[1;33m\u001b[0m\u001b[0m\n\u001b[0m\u001b[0;32m   1670\u001b[0m \u001b[1;33m\u001b[0m\u001b[0m\n\u001b[0;32m   1671\u001b[0m             \u001b[1;32melif\u001b[0m \u001b[0mnp\u001b[0m\u001b[1;33m.\u001b[0m\u001b[0mndim\u001b[0m\u001b[1;33m(\u001b[0m\u001b[0mvalue\u001b[0m\u001b[1;33m)\u001b[0m \u001b[1;33m==\u001b[0m \u001b[1;36m2\u001b[0m\u001b[1;33m:\u001b[0m\u001b[1;33m\u001b[0m\u001b[1;33m\u001b[0m\u001b[0m\n",
      "\u001b[1;32m~\\anaconda3\\lib\\site-packages\\pandas\\core\\indexing.py\u001b[0m in \u001b[0;36m_setitem_with_indexer_frame_value\u001b[1;34m(self, indexer, value, name)\u001b[0m\n\u001b[0;32m   1772\u001b[0m \u001b[1;33m\u001b[0m\u001b[0m\n\u001b[0;32m   1773\u001b[0m         \u001b[1;32melif\u001b[0m \u001b[1;32mnot\u001b[0m \u001b[0munique_cols\u001b[0m\u001b[1;33m:\u001b[0m\u001b[1;33m\u001b[0m\u001b[1;33m\u001b[0m\u001b[0m\n\u001b[1;32m-> 1774\u001b[1;33m             \u001b[1;32mraise\u001b[0m \u001b[0mValueError\u001b[0m\u001b[1;33m(\u001b[0m\u001b[1;34m\"Setting with non-unique columns is not allowed.\"\u001b[0m\u001b[1;33m)\u001b[0m\u001b[1;33m\u001b[0m\u001b[1;33m\u001b[0m\u001b[0m\n\u001b[0m\u001b[0;32m   1775\u001b[0m \u001b[1;33m\u001b[0m\u001b[0m\n\u001b[0;32m   1776\u001b[0m         \u001b[1;32melse\u001b[0m\u001b[1;33m:\u001b[0m\u001b[1;33m\u001b[0m\u001b[1;33m\u001b[0m\u001b[0m\n",
      "\u001b[1;31mValueError\u001b[0m: Setting with non-unique columns is not allowed."
     ]
    }
   ],
   "source": [
    "filt = df['spring_1'] == 0\n",
    "filt2 = df['spring_2'] == 0\n",
    "df.loc[filt, df['spring_1']] = df.loc[filt, df['spring_2']]\n",
    "df.loc[filt|filt2, df['spring_2']] = df.loc[filt|filt2, df['spring_3']]\n",
    "df.loc[filt|filt2, df['spring_3']] = 0"
   ]
  },
  {
   "cell_type": "code",
   "execution_count": null,
   "metadata": {},
   "outputs": [],
   "source": []
  },
  {
   "cell_type": "code",
   "execution_count": null,
   "metadata": {},
   "outputs": [],
   "source": [
    "df['course1'], df['course2'] = None, None"
   ]
  },
  {
   "cell_type": "code",
   "execution_count": null,
   "metadata": {},
   "outputs": [],
   "source": [
    "for course in spring_courses:\n",
    "    students = df[(df['fall_1'] == course)|((df['fall_2'] == course)&(df['autumn num'] == 2))].nsmallest(places[course], 'percentile')\n",
    "    first_free = students[students['course1'].isnull()].index\n",
    "    df.loc[first_free, 'course1'] = course\n",
    "    second_free = students[(~students['course1'].isnull())&(students['course1'] != course)].index\n",
    "    df.loc[second_free, 'course2'] = course\n",
    "    \n",
    "    places[course]-= (len(first_free)+len(second_free))"
   ]
  },
  {
   "cell_type": "code",
   "execution_count": null,
   "metadata": {},
   "outputs": [],
   "source": [
    "for course in spring_courses:\n",
    "    students = df[(df['fall_2'] == course)&(df['autumn num'] == 1)&(df['course1'].isnull())].nsmallest(places[course], 'percentile').index\n",
    "    df.loc[students, 'course1'] = course\n",
    "    \n",
    "    places[course]-= (len(students))"
   ]
  },
  {
   "cell_type": "code",
   "execution_count": null,
   "metadata": {},
   "outputs": [],
   "source": [
    "for course in spring_courses:\n",
    "    students = df[(df['fall_3'] == course)&(df['course1'].isnull()|(df['course2'].isnull()&(df['autumn num']==2)))].nsmallest(places[course], 'percentile')\n",
    "    first_free = students[students['course1'].isnull()].index\n",
    "    df.loc[first_free, 'course1'] = course\n",
    "    second_free = students[(~students['course1'].isnull())&(students['course1'] != course)].index\n",
    "    df.loc[second_free, 'course2'] = course\n",
    "    \n",
    "    places[course]-= (len(first_free)+len(second_free))"
   ]
  },
  {
   "cell_type": "code",
   "execution_count": null,
   "metadata": {},
   "outputs": [],
   "source": [
    "df.loc[(df['autumn num'] == 1),'course2'] = \"-\"\n",
    "df.fillna('???', inplace = True)\n",
    "df.loc[:, ('id', 'course1', 'course2')].rename(columns = {'id': 'ID'}).to_csv('solution.csv', index=None)"
   ]
  },
  {
   "cell_type": "markdown",
   "metadata": {
    "id": "It7QQZLYhLu7"
   },
   "source": [
    "**Отправьте свой файл res_spring.csv в контест (https://contest.yandex.ru/contest/29176/problems/B/) и прикрепите/укажите ниже ваш никнейм и ссылку на успешную посылку.**"
   ]
  },
  {
   "cell_type": "markdown",
   "metadata": {
    "id": "1YcouVTihLu7"
   },
   "source": [
    "На всякий случай просим вас сдать вместе с ноутбуком файл res_spring.csv в anytask"
   ]
  },
  {
   "cell_type": "markdown",
   "metadata": {
    "id": "uY_OY6inhLu7"
   },
   "source": [
    "Вставьте картинку, описывающую ваш опыт выполнения этого задания:"
   ]
  },
  {
   "cell_type": "markdown",
   "metadata": {
    "id": "R9_7CnSFhLu7"
   },
   "source": [
    "░░░░░░░░░░░░▄▄▄██████████▄▄▄░░░░░░░░░░░░\n",
    "░░░░░░░░░▄████▀▀▀▀▀▀▀▀▀▀▀▀████▄░░░░░░░░░\n",
    "░░░░░░▄███▀▀░░░░░░░░░░░░░░░░▀▀███▄░░░░░░\n",
    "░░░░▄███▀░░░░░░░░░░░░░░░░░░░░░░▀███▄░░░░\n",
    "░░░▄██▀░░░░░░░░░░░░░░░░░░░░░░░░░░▀██▄░░░\n",
    "░░███░░░░░░▄▄█▄▄░░░░░░░░▄▄█▄▄░░░░░░███░░\n",
    "░███░░░░░░▄██████░░░░░░██████▄░░░░░░███░\n",
    "▄██░░░░░░░░█████▀░░░░░░▀█████░░░░░░░░██▄\n",
    "███░░░░░░░░░▀▀▀░░░░░░░░░░▀▀▀░░░░░░░░░███\n",
    "███░░░░░░░░░░░░░▄▄▄▄▄▄▄▄░░░░░░░░░░░░░███\n",
    "███░░░░░░░░░▄▄████████████▄▄░░░░░░░░░███\n",
    "███░░░░░░░░███▀▀▀░░░░░░▀▀▀███░░░░░░░░███\n",
    "▀██░░░░░░▄██▀░░░░░░░░░░░░░░▀██▄░░░░░░██▀\n",
    "░███░░░░░██░░░░░░░░░░░░░░░░░░██░░░░░███░\n",
    "░░███░░░██░░░░░░░░░░░░░░░░░░░░██░░░███░░\n",
    "░░░▀██▄░░░░░░░░░░░░░░░░░░░░░░░░░░▄██▀░░░\n",
    "░░░░▀███▄░░░░░░░░░░░░░░░░░░░░░░▄███▀░░░░\n",
    "░░░░░░▀███▄▄░░░░░░░░░░░░░░░░▄▄███▀░░░░░░\n",
    "░░░░░░░░░▀████▄▄▄▄▄▄▄▄▄▄▄▄████▀░░░░░░░░░\n",
    "░░░░░░░░░░░▀▀▀████████████▀▀▀░░░░░░░░░░░"
   ]
  },
  {
   "cell_type": "markdown",
   "metadata": {},
   "source": [
    "это два студента которые попали не на те курсы из-за меня"
   ]
  },
  {
   "cell_type": "markdown",
   "metadata": {},
   "source": [
    "кстати ирл это одна картинка которая при прогоне ячейки раздваивается скажите уморительно"
   ]
  },
  {
   "cell_type": "markdown",
   "metadata": {},
   "source": [
    "# спидорак: начало"
   ]
  },
  {
   "cell_type": "code",
   "execution_count": 179,
   "metadata": {},
   "outputs": [
    {
     "name": "stdout",
     "output_type": "stream",
     "text": [
      "Язык SQL 30\n",
      "Моделирование временных рядов 30\n",
      "Матричные вычисления 30\n",
      "Глубинное обучение в обработке звука 30\n",
      "Высокопроизводительные вычисления 60\n",
      "Анализ неструктурированных данных 56\n",
      "Принятие решений в условиях риска и неопределённости 10\n",
      "Statistical Learning Theory 43\n",
      "Безопасность компьютерных систем 30\n",
      "Сбор и обработка данных с помощью краудсорсинга 30\n",
      "Теория баз данных 24\n",
      "Байесовские методы машинного обучения 25\n"
     ]
    }
   ],
   "source": [
    "for course in autumn_courses:\n",
    "    print(course, sum((df['course1'] == course)| (df['course2'] == course)))"
   ]
  },
  {
   "cell_type": "code",
   "execution_count": 227,
   "metadata": {},
   "outputs": [
    {
     "data": {
      "text/html": [
       "<div>\n",
       "<style scoped>\n",
       "    .dataframe tbody tr th:only-of-type {\n",
       "        vertical-align: middle;\n",
       "    }\n",
       "\n",
       "    .dataframe tbody tr th {\n",
       "        vertical-align: top;\n",
       "    }\n",
       "\n",
       "    .dataframe thead th {\n",
       "        text-align: right;\n",
       "    }\n",
       "</style>\n",
       "<table border=\"1\" class=\"dataframe\">\n",
       "  <thead>\n",
       "    <tr style=\"text-align: right;\">\n",
       "      <th></th>\n",
       "      <th>timestamp</th>\n",
       "      <th>id</th>\n",
       "      <th>rating</th>\n",
       "      <th>18_group</th>\n",
       "      <th>is_mi</th>\n",
       "      <th>fall_1</th>\n",
       "      <th>fall_2</th>\n",
       "      <th>fall_3</th>\n",
       "      <th>spring_1</th>\n",
       "      <th>spring_2</th>\n",
       "      <th>spring_3</th>\n",
       "      <th>is_first_time</th>\n",
       "      <th>percentile</th>\n",
       "      <th>17_group</th>\n",
       "      <th>blended</th>\n",
       "      <th>is_ml_student</th>\n",
       "      <th>autumn num</th>\n",
       "      <th>course1</th>\n",
       "      <th>course2</th>\n",
       "    </tr>\n",
       "  </thead>\n",
       "  <tbody>\n",
       "    <tr>\n",
       "      <th>239</th>\n",
       "      <td>2020-05-14 23:33:21.310</td>\n",
       "      <td>e0fceae1e285f737630bb6123a1bd85d</td>\n",
       "      <td>1203</td>\n",
       "      <td>0.0</td>\n",
       "      <td>0.0</td>\n",
       "      <td>Высокопроизводительные вычисления</td>\n",
       "      <td>Высокопроизводительные вычисления</td>\n",
       "      <td>Высокопроизводительные вычисления</td>\n",
       "      <td>Проектирование и разработка высоконагруженных ...</td>\n",
       "      <td>Проектирование и разработка высоконагруженных ...</td>\n",
       "      <td>Символьные вычисления</td>\n",
       "      <td>Да</td>\n",
       "      <td>0.311594</td>\n",
       "      <td>173.0</td>\n",
       "      <td>DevOps</td>\n",
       "      <td>0.0</td>\n",
       "      <td>2</td>\n",
       "      <td>Высокопроизводительные вычисления</td>\n",
       "      <td>???</td>\n",
       "    </tr>\n",
       "    <tr>\n",
       "      <th>19</th>\n",
       "      <td>2020-05-15 21:34:32.550</td>\n",
       "      <td>86d929f6fd741e56e93cee5900298849</td>\n",
       "      <td>761</td>\n",
       "      <td>181.0</td>\n",
       "      <td>0.0</td>\n",
       "      <td>Сбор и обработка данных с помощью краудсорсинга</td>\n",
       "      <td>Сбор и обработка данных с помощью краудсорсинга</td>\n",
       "      <td>Сбор и обработка данных с помощью краудсорсинга</td>\n",
       "      <td>Дополнительные главы прикладной статистики</td>\n",
       "      <td>Дополнительные главы прикладной статистики</td>\n",
       "      <td>Дополнительные главы прикладной статистики</td>\n",
       "      <td>Да</td>\n",
       "      <td>0.008969</td>\n",
       "      <td>0.0</td>\n",
       "      <td></td>\n",
       "      <td>0.0</td>\n",
       "      <td>1</td>\n",
       "      <td>Сбор и обработка данных с помощью краудсорсинга</td>\n",
       "      <td>-</td>\n",
       "    </tr>\n",
       "    <tr>\n",
       "      <th>283</th>\n",
       "      <td>2020-05-18 14:55:38.053</td>\n",
       "      <td>0d85933f07516e8871e9415c1d95ddbe</td>\n",
       "      <td>1202</td>\n",
       "      <td>0.0</td>\n",
       "      <td>0.0</td>\n",
       "      <td>Высокопроизводительные вычисления</td>\n",
       "      <td>Высокопроизводительные вычисления</td>\n",
       "      <td>Высокопроизводительные вычисления</td>\n",
       "      <td>Методы сжатия и передачи медиаданных</td>\n",
       "      <td>Проектирование и разработка высоконагруженных ...</td>\n",
       "      <td>Методы сжатия и передачи медиаданных</td>\n",
       "      <td>Да</td>\n",
       "      <td>0.318841</td>\n",
       "      <td>175.0</td>\n",
       "      <td>DevOps</td>\n",
       "      <td>0.0</td>\n",
       "      <td>1</td>\n",
       "      <td>Высокопроизводительные вычисления</td>\n",
       "      <td>-</td>\n",
       "    </tr>\n",
       "    <tr>\n",
       "      <th>295</th>\n",
       "      <td>2020-05-18 18:27:32.822</td>\n",
       "      <td>7fcf56aae6836855a689000a50e80360</td>\n",
       "      <td>1145</td>\n",
       "      <td>0.0</td>\n",
       "      <td>0.0</td>\n",
       "      <td>Безопасность компьютерных систем</td>\n",
       "      <td>Безопасность компьютерных систем</td>\n",
       "      <td>Безопасность компьютерных систем</td>\n",
       "      <td>Символьные вычисления</td>\n",
       "      <td>Символьные вычисления</td>\n",
       "      <td>Символьные вычисления</td>\n",
       "      <td>Да</td>\n",
       "      <td>0.536232</td>\n",
       "      <td>173.0</td>\n",
       "      <td>Введение в дифференциальную геометрию</td>\n",
       "      <td>0.0</td>\n",
       "      <td>2</td>\n",
       "      <td>???</td>\n",
       "      <td>???</td>\n",
       "    </tr>\n",
       "  </tbody>\n",
       "</table>\n",
       "</div>"
      ],
      "text/plain": [
       "                  timestamp                                id  rating  \\\n",
       "239 2020-05-14 23:33:21.310  e0fceae1e285f737630bb6123a1bd85d    1203   \n",
       "19  2020-05-15 21:34:32.550  86d929f6fd741e56e93cee5900298849     761   \n",
       "283 2020-05-18 14:55:38.053  0d85933f07516e8871e9415c1d95ddbe    1202   \n",
       "295 2020-05-18 18:27:32.822  7fcf56aae6836855a689000a50e80360    1145   \n",
       "\n",
       "     18_group  is_mi                                           fall_1  \\\n",
       "239       0.0    0.0                Высокопроизводительные вычисления   \n",
       "19      181.0    0.0  Сбор и обработка данных с помощью краудсорсинга   \n",
       "283       0.0    0.0                Высокопроизводительные вычисления   \n",
       "295       0.0    0.0                 Безопасность компьютерных систем   \n",
       "\n",
       "                                              fall_2  \\\n",
       "239                Высокопроизводительные вычисления   \n",
       "19   Сбор и обработка данных с помощью краудсорсинга   \n",
       "283                Высокопроизводительные вычисления   \n",
       "295                 Безопасность компьютерных систем   \n",
       "\n",
       "                                              fall_3  \\\n",
       "239                Высокопроизводительные вычисления   \n",
       "19   Сбор и обработка данных с помощью краудсорсинга   \n",
       "283                Высокопроизводительные вычисления   \n",
       "295                 Безопасность компьютерных систем   \n",
       "\n",
       "                                              spring_1  \\\n",
       "239  Проектирование и разработка высоконагруженных ...   \n",
       "19          Дополнительные главы прикладной статистики   \n",
       "283               Методы сжатия и передачи медиаданных   \n",
       "295                              Символьные вычисления   \n",
       "\n",
       "                                              spring_2  \\\n",
       "239  Проектирование и разработка высоконагруженных ...   \n",
       "19          Дополнительные главы прикладной статистики   \n",
       "283  Проектирование и разработка высоконагруженных ...   \n",
       "295                              Символьные вычисления   \n",
       "\n",
       "                                       spring_3 is_first_time  percentile  \\\n",
       "239                       Символьные вычисления            Да    0.311594   \n",
       "19   Дополнительные главы прикладной статистики            Да    0.008969   \n",
       "283        Методы сжатия и передачи медиаданных            Да    0.318841   \n",
       "295                       Символьные вычисления            Да    0.536232   \n",
       "\n",
       "     17_group                                blended  is_ml_student  \\\n",
       "239     173.0                                 DevOps            0.0   \n",
       "19        0.0                                                   0.0   \n",
       "283     175.0                                 DevOps            0.0   \n",
       "295     173.0  Введение в дифференциальную геометрию            0.0   \n",
       "\n",
       "     autumn num                                          course1 course2  \n",
       "239           2                Высокопроизводительные вычисления     ???  \n",
       "19            1  Сбор и обработка данных с помощью краудсорсинга       -  \n",
       "283           1                Высокопроизводительные вычисления       -  \n",
       "295           2                                              ???     ???  "
      ]
     },
     "execution_count": 227,
     "metadata": {},
     "output_type": "execute_result"
    }
   ],
   "source": [
    "df[df['fall_1'] == df['fall_2']]"
   ]
  },
  {
   "cell_type": "code",
   "execution_count": 230,
   "metadata": {},
   "outputs": [
    {
     "data": {
      "text/html": [
       "<div>\n",
       "<style scoped>\n",
       "    .dataframe tbody tr th:only-of-type {\n",
       "        vertical-align: middle;\n",
       "    }\n",
       "\n",
       "    .dataframe tbody tr th {\n",
       "        vertical-align: top;\n",
       "    }\n",
       "\n",
       "    .dataframe thead th {\n",
       "        text-align: right;\n",
       "    }\n",
       "</style>\n",
       "<table border=\"1\" class=\"dataframe\">\n",
       "  <thead>\n",
       "    <tr style=\"text-align: right;\">\n",
       "      <th></th>\n",
       "      <th>timestamp</th>\n",
       "      <th>id</th>\n",
       "      <th>rating</th>\n",
       "      <th>18_group</th>\n",
       "      <th>is_mi</th>\n",
       "      <th>fall_1</th>\n",
       "      <th>fall_2</th>\n",
       "      <th>fall_3</th>\n",
       "      <th>spring_1</th>\n",
       "      <th>spring_2</th>\n",
       "      <th>spring_3</th>\n",
       "      <th>is_first_time</th>\n",
       "      <th>percentile</th>\n",
       "      <th>17_group</th>\n",
       "      <th>blended</th>\n",
       "      <th>is_ml_student</th>\n",
       "      <th>autumn num</th>\n",
       "      <th>course1</th>\n",
       "      <th>course2</th>\n",
       "    </tr>\n",
       "  </thead>\n",
       "  <tbody>\n",
       "    <tr>\n",
       "      <th>336</th>\n",
       "      <td>2020-05-18 23:01:42.225</td>\n",
       "      <td>842a87d59de90b711fe3266830fe608c</td>\n",
       "      <td>1188</td>\n",
       "      <td>0.0</td>\n",
       "      <td>0.0</td>\n",
       "      <td>Высокопроизводительные вычисления</td>\n",
       "      <td>Безопасность компьютерных систем</td>\n",
       "      <td>Безопасность компьютерных систем</td>\n",
       "      <td>Проектирование и разработка высоконагруженных ...</td>\n",
       "      <td>Методы сжатия и передачи медиаданных</td>\n",
       "      <td>Компьютерное зрение</td>\n",
       "      <td>Нет</td>\n",
       "      <td>0.384058</td>\n",
       "      <td>175.0</td>\n",
       "      <td>DevOps</td>\n",
       "      <td>0.0</td>\n",
       "      <td>1</td>\n",
       "      <td>Высокопроизводительные вычисления</td>\n",
       "      <td>-</td>\n",
       "    </tr>\n",
       "    <tr>\n",
       "      <th>349</th>\n",
       "      <td>2020-05-18 23:56:39.191</td>\n",
       "      <td>bb9bbd259ab6b8170a7dc6fb35695d13</td>\n",
       "      <td>1285</td>\n",
       "      <td>0.0</td>\n",
       "      <td>0.0</td>\n",
       "      <td>Безопасность компьютерных систем</td>\n",
       "      <td>Высокопроизводительные вычисления</td>\n",
       "      <td>Высокопроизводительные вычисления</td>\n",
       "      <td>Методы сжатия и передачи медиаданных</td>\n",
       "      <td>Проектирование и разработка высоконагруженных ...</td>\n",
       "      <td>Конфликты и кооперация</td>\n",
       "      <td>Да</td>\n",
       "      <td>0.086957</td>\n",
       "      <td>175.0</td>\n",
       "      <td>DevOps</td>\n",
       "      <td>0.0</td>\n",
       "      <td>1</td>\n",
       "      <td>Безопасность компьютерных систем</td>\n",
       "      <td>-</td>\n",
       "    </tr>\n",
       "  </tbody>\n",
       "</table>\n",
       "</div>"
      ],
      "text/plain": [
       "                  timestamp                                id  rating  \\\n",
       "336 2020-05-18 23:01:42.225  842a87d59de90b711fe3266830fe608c    1188   \n",
       "349 2020-05-18 23:56:39.191  bb9bbd259ab6b8170a7dc6fb35695d13    1285   \n",
       "\n",
       "     18_group  is_mi                             fall_1  \\\n",
       "336       0.0    0.0  Высокопроизводительные вычисления   \n",
       "349       0.0    0.0   Безопасность компьютерных систем   \n",
       "\n",
       "                                fall_2                             fall_3  \\\n",
       "336   Безопасность компьютерных систем   Безопасность компьютерных систем   \n",
       "349  Высокопроизводительные вычисления  Высокопроизводительные вычисления   \n",
       "\n",
       "                                              spring_1  \\\n",
       "336  Проектирование и разработка высоконагруженных ...   \n",
       "349               Методы сжатия и передачи медиаданных   \n",
       "\n",
       "                                              spring_2  \\\n",
       "336               Методы сжатия и передачи медиаданных   \n",
       "349  Проектирование и разработка высоконагруженных ...   \n",
       "\n",
       "                   spring_3 is_first_time  percentile  17_group blended  \\\n",
       "336     Компьютерное зрение           Нет    0.384058     175.0  DevOps   \n",
       "349  Конфликты и кооперация            Да    0.086957     175.0  DevOps   \n",
       "\n",
       "     is_ml_student  autumn num                            course1 course2  \n",
       "336            0.0           1  Высокопроизводительные вычисления       -  \n",
       "349            0.0           1   Безопасность компьютерных систем       -  "
      ]
     },
     "execution_count": 230,
     "metadata": {},
     "output_type": "execute_result"
    }
   ],
   "source": [
    "df[(df['fall_3'] == df['fall_2'])&(df['fall_1'] != df['fall_2'])]"
   ]
  },
  {
   "cell_type": "code",
   "execution_count": null,
   "metadata": {},
   "outputs": [],
   "source": []
  }
 ],
 "metadata": {
  "colab": {
   "name": "homework-practice-01-pandas.ipynb",
   "provenance": []
  },
  "kernelspec": {
   "display_name": "Python 3 (ipykernel)",
   "language": "python",
   "name": "python3"
  },
  "language_info": {
   "codemirror_mode": {
    "name": "ipython",
    "version": 3
   },
   "file_extension": ".py",
   "mimetype": "text/x-python",
   "name": "python",
   "nbconvert_exporter": "python",
   "pygments_lexer": "ipython3",
   "version": "3.8.10"
  },
  "varInspector": {
   "cols": {
    "lenName": 16,
    "lenType": 16,
    "lenVar": 40
   },
   "kernels_config": {
    "python": {
     "delete_cmd_postfix": "",
     "delete_cmd_prefix": "del ",
     "library": "var_list.py",
     "varRefreshCmd": "print(var_dic_list())"
    },
    "r": {
     "delete_cmd_postfix": ") ",
     "delete_cmd_prefix": "rm(",
     "library": "var_list.r",
     "varRefreshCmd": "cat(var_dic_list()) "
    }
   },
   "types_to_exclude": [
    "module",
    "function",
    "builtin_function_or_method",
    "instance",
    "_Feature"
   ],
   "window_display": false
  }
 },
 "nbformat": 4,
 "nbformat_minor": 1
}
